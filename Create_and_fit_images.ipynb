{
 "cells": [
  {
   "cell_type": "code",
   "execution_count": 1,
   "id": "ebb2ccc4-15c0-4e04-972e-1af572fc84ef",
   "metadata": {},
   "outputs": [],
   "source": [
    "import sys\n",
    "import os\n",
    "import jax\n",
    "import jax.numpy as jnp\n",
    "from jax import vmap, pmap, jit, grad\n",
    "import numpy as onp\n",
    "from astropy.io import fits\n",
    "from astropy import units as u\n",
    "from astropy.timeseries import LombScargle\n",
    "import matplotlib.pyplot as plt\n",
    "import pysynphot as S\n",
    "import time\n",
    "from tqdm.notebook import tqdm\n",
    "import morphine\n",
    "import morphine_model\n",
    "import scipy\n",
    "from jax.config import config\n",
    "config.update(\"jax_enable_x64\", True)\n",
    "\n",
    "from time import time as clock\n",
    "from IPython.display import clear_output\n",
    "\n",
    "import scipy\n",
    "import scipy.ndimage as ndimage\n",
    "import scipy.ndimage.filters as filters\n",
    "from scipy.spatial.distance import cdist"
   ]
  },
  {
   "cell_type": "code",
   "execution_count": 2,
   "id": "9e3fbe66-af5b-4236-a75f-cdbfb4acf83f",
   "metadata": {},
   "outputs": [
    {
     "name": "stderr",
     "output_type": "stream",
     "text": [
      "/suphys/cdea7424/.conda/envs/main/lib/python3.9/site-packages/jax/lib/xla_bridge.py:130: UserWarning: No GPU/TPU found, falling back to CPU.\n",
      "  warnings.warn('No GPU/TPU found, falling back to CPU.')\n"
     ]
    }
   ],
   "source": [
    "###################\n",
    "# Star Parameters #\n",
    "###################\n",
    "\n",
    "n_wavs = 20\n",
    "central_wav = 550e-9 # m\n",
    "width = 115e-9 # m\n",
    "wavs = jnp.linspace(central_wav-width/1.6,central_wav+width/1.6,num=n_wavs) # Go a bit past the edges\n",
    "\n",
    "filter_n,filter_sigma = 8,105e-9 \n",
    "central_wav = onp.random.normal(scale=0e-11,loc=550e-9)\n",
    "bandpass = morphine_model.supergaussian(wavs,central_wav,sigma=filter_sigma,n=filter_n)\n",
    "\n",
    "primary_teff_A = 5790   #temp\n",
    "primary_z_A = 0.2       #metallicity    - numbers from wikipedia\n",
    "primary_logg_A = 4.3    #gravity\n",
    "acenA = S.Icat('phoenix',primary_teff_A,primary_z_A,primary_logg_A)\n",
    "specA = acenA.sample(wavs*1e10)\n",
    "specA /= jnp.max(specA*bandpass)\n",
    "weights_A = specA*bandpass\n",
    "\n",
    "primary_teff_B = 5260   #temp\n",
    "primary_z_B = 0.23      #metallicty\n",
    "primary_logg_B = 4.37   #gravity\n",
    "acenB = S.Icat('phoenix',primary_teff_B,primary_z_B,primary_logg_B)\n",
    "specB = acenB.sample(wavs*1e10)\n",
    "specB /= jnp.max(specB*bandpass)\n",
    "weights_B = specB*bandpass"
   ]
  },
  {
   "cell_type": "code",
   "execution_count": 35,
   "id": "910590d0-fda4-4a8a-ad07-15ce69918f56",
   "metadata": {},
   "outputs": [],
   "source": [
    "#############################\n",
    "# Simulated Detector Params #\n",
    "#############################\n",
    "pscale = 0.156\n",
    "num_pix = 2000\n",
    "pdiam2 = 0.13\n",
    "osamp = 2\n",
    "\n",
    "NZ = 20\n",
    "zernikes = morphine.zernike.zernike_basis(NZ,npix=num_pix,outside=0.0) "
   ]
  },
  {
   "cell_type": "code",
   "execution_count": 4,
   "id": "fb960359-de70-452d-af04-7d43e757c5d2",
   "metadata": {},
   "outputs": [],
   "source": [
    "#####################\n",
    "### Pupil Loading ###\n",
    "#####################\n",
    "\n",
    "def get_aperture(size, radius=None):\n",
    "    \"\"\"\n",
    "    Produces an array to be used to represent the magnitude of light at the aperture of a telescope.\n",
    "    Ie an array of zeros with a circle of ones at the centre\n",
    "    Parameters:\n",
    "        size: The size of the array to return\n",
    "        radius (optional): The radius which defines the boundary of the aperture, if left as None it\n",
    "        will extend the aperture to the edged of the array (ie radius = size/2)\n",
    "    Returns:\n",
    "        aperture: An array of zeros with a circular section in the middle of ones\n",
    "    \"\"\"\n",
    "    c = size/2\n",
    "    xs = jnp.linspace(-c, c, size, endpoint=False)\n",
    "    Xs, Ys = jnp.meshgrid(xs, xs)\n",
    "    Rs = jnp.hypot(Xs, Ys)\n",
    "    \n",
    "    if radius is None:\n",
    "        aperture = jnp.where(Rs > c, 0, jnp.ones([size, size]))\n",
    "    else:\n",
    "        aperture = jnp.where(Rs > radius, 0, jnp.ones([size, size]))\n",
    "    return aperture\n",
    "\n",
    "from scipy.ndimage import zoom\n",
    "def get_toliman_pupil(size, path=None):\n",
    "    \"\"\"\n",
    "    Loads in the Toliman pupil file and returns a scaled version of dimension 'size'. \n",
    "    The pupil is returned as a complex array.\n",
    "    Parameters:\n",
    "        size: The size of the final output array\n",
    "        path (optional): The path to the \"Toliman_pupil.npy\" file. If left as None it will\n",
    "        look for the file in the current working directory\n",
    "    Returns:\n",
    "        toliman_pupil_scaled: A scaled version of the Toliman pupil returned as a complex array\n",
    "    \"\"\"\n",
    "    if path is None:\n",
    "        toliman_pupil = jnp.load(\"Toliman_pupil.npy\")\n",
    "    else:\n",
    "        toliman_pupil = jnp.load(\"{}/Toliman_pupil.npy\".format(path))\n",
    "        \n",
    "    phase = jnp.angle(toliman_pupil)\n",
    "    size_in = phase.shape[0]\n",
    "    ratio = float(size/size_in)\n",
    "    phase_scaled = zoom(phase, ratio, order=0)\n",
    "    toliman_pupil_out = get_aperture(size) * jnp.exp(1j * phase_scaled)\n",
    "    return toliman_pupil_out"
   ]
  },
  {
   "cell_type": "code",
   "execution_count": 5,
   "id": "516968c6-749d-45ec-8b9b-f001608b8966",
   "metadata": {},
   "outputs": [],
   "source": [
    "pupil = get_toliman_pupil(osamp*num_pix)\n",
    "aperture_array = jnp.abs(pupil)\n",
    "opd = central_wav*jnp.angle(pupil)/(2*jnp.pi)"
   ]
  },
  {
   "cell_type": "code",
   "execution_count": 6,
   "id": "172aba8a-8cef-4829-ab7f-853c96504fc7",
   "metadata": {},
   "outputs": [],
   "source": [
    "toliman_Sidelobes = morphine_model.TolimanAperture(add_grating=True,grating_fact=0.0003,telescope_diam=0.13,\n",
    "                                    central_wav=central_wav,achromatic_pupil = True,grating_amp=jnp.sqrt(0.1), pupil_file = 'Toliman_pupil.npy')"
   ]
  },
  {
   "cell_type": "code",
   "execution_count": 31,
   "id": "914f5631-b843-49b1-b714-34426b93a40b",
   "metadata": {},
   "outputs": [],
   "source": [
    "############################\n",
    "# Image creating functions #\n",
    "############################\n",
    "\n",
    "zernikes = morphine.zernike.zernike_basis(NZ,npix=num_pix,outside=0.0) \n",
    "def generate_opsys(zern_coeffs = jnp.zeros(20)):\n",
    "    zernikes = morphine.zernike.zernike_basis(NZ,npix=num_pix,outside=0.0) \n",
    "\n",
    "    # fix this\n",
    "    opsys = morphine.OpticalSystem(npix = num_pix)\n",
    "    opsys.add_pupil(toliman_Sidelobes)\n",
    "    opsys.pupil_diameter = pdiam2 \n",
    "    wf = opsys.input_wavefront()\n",
    "    thinlens = morphine.ZernikeWFE(radius=pdiam2/2, coefficients=zern_coeffs, cached_zernikes=zernikes)\n",
    "    opsys.add_pupil(thinlens)\n",
    "\n",
    "    opsys.add_detector(pixelscale=pscale, fov_arcsec=pscale*num_pix/2) \n",
    "    return opsys\n",
    "\n",
    "def get_psf(r, theta, osys, wl):\n",
    "    osys.source_offset_r = r # arcseconds\n",
    "    osys.source_offset_theta = theta # degrees\n",
    "    psf = osys.propagate_mono(wl)[0].intensity\n",
    "    return psf/onp.sum(psf)\n",
    "get_psf_vmap = vmap(get_psf, in_axes=(None, None, None, 0))\n",
    "\n",
    "def get_bb_psf(r, theta, osys, wavels, weights, sigma=0):\n",
    "    psf_stack = get_psf_vmap(r, theta, osys, wavels)\n",
    "    psf_stack *= weights.reshape([len(weights), 1, 1])\n",
    "    psf = jnp.sum(psf_stack, axis=0)\n",
    "    return psf/jnp.sum(psf)\n",
    "\n",
    "\n",
    "def get_double_bb_psf(r, theta, osys, wavels, weights1, weights2, sigma = 0):\n",
    "    starA = get_bb_psf(0, 0, osys, wavels, weights1, sigma)\n",
    "    #starA = np.array(star1)\n",
    "    starB = get_bb_psf(r, theta, osys, wavels, weights2, sigma)\n",
    "   # starB = onp.array(star2)\n",
    "    return starB*0.25+starA*0.75 ##approximate luminosity contribution"
   ]
  },
  {
   "cell_type": "code",
   "execution_count": 36,
   "id": "326874b8-f089-4919-b2d5-7aef837b5eb5",
   "metadata": {},
   "outputs": [],
   "source": [
    "##########################\n",
    "# Noise adding functions #\n",
    "##########################\n",
    "\n",
    "def apply_photon_noise(image, seed = None):\n",
    "    if seed is not None:\n",
    "        onp.seed(seed)\n",
    "    image_noisy = onp.random.poisson(image)\n",
    "    return image_noisy\n",
    "\n",
    "def generate_detector_noise(npixels, nimages, standard_deviation, seed=None):\n",
    "    if seed is not None:\n",
    "        onp.seed(seed)\n",
    "    thermal_noise = jnp.abs(onp.random.normal(0, standard_deviation, [nimages, npixels, npixels]))\n",
    "    if nimages == 1:\n",
    "        return thermal_noise[0]\n",
    "    return thermal_noise\n",
    "\n",
    "def pixel_faults(rate = 0.001, mean = 0.97, std = 0.01):\n",
    "    '''\n",
    "    Adds inhomogenities to pixels by making some less sensitive.\n",
    "    rate: what % of pixels are faulty\n",
    "    mean: faulty pixel sensitivity\n",
    "    std: std of gaussian spread around mean\n",
    "    \n",
    "    NOTE: Only takes 512x512 images\n",
    "    '''\n",
    "    faulty_map = onp.random.rand(2000,2000)  # careful with this\n",
    "    faulty_map[faulty_map > rate] = 0\n",
    "    faulty_map[faulty_map > 0] = 1\n",
    "    \n",
    "    num_nonZero = len(faulty_map[faulty_map == 1])\n",
    "    \n",
    "    sensitivities = std*onp.random.randn(num_nonZero)+mean\n",
    "    sensitivities[sensitivities > 1] = 1\n",
    "\n",
    "    faulty_map[faulty_map > 0] = sensitivities\n",
    "    faulty_map[faulty_map == 0] = 1\n",
    "    return faulty_map\n",
    "\n",
    "def make_noisy(image, flux):\n",
    "    # photon and detector and pixel\n",
    "    dark_current = 2 # electrons 2 \n",
    "    PSF_photons = apply_photon_noise(flux * image)\n",
    "    detector_noise = generate_detector_noise(num_pix, 1, dark_current)\n",
    "    noisy_PSF = PSF_photons + detector_noise\n",
    "    # new addition below\n",
    "    noisy_PSF = noisy_PSF*pixel_faults()\n",
    "    noisy_PSF = noisy_PSF/jnp.sum(noisy_PSF)\n",
    "    return noisy_PSF\n",
    "\n",
    "def make_noisy1(image, flux):\n",
    "    # photon and detector\n",
    "    dark_current = 2 # electrons 2 \n",
    "    PSF_photons = apply_photon_noise(flux * image)\n",
    "    detector_noise = generate_detector_noise(num_pix, 1, dark_current)\n",
    "    noisy_PSF = PSF_photons + detector_noise\n",
    "    noisy_PSF = noisy_PSF/jnp.sum(noisy_PSF)\n",
    "    return noisy_PSF\n",
    "\n",
    "def make_noisy2(image, flux):\n",
    "    # photon\n",
    "    PSF_photons = apply_photon_noise(flux * image)\n",
    "    noisy_PSF = PSF_photons\n",
    "    noisy_PSF = noisy_PSF/jnp.sum(noisy_PSF)\n",
    "    return noisy_PSF"
   ]
  },
  {
   "cell_type": "code",
   "execution_count": 9,
   "id": "94293124-7ba3-4b25-8cf1-5d27dba0e968",
   "metadata": {},
   "outputs": [],
   "source": [
    "def cramer_rao_bound(image):\n",
    "    \"\"\" Calculate the Cramer-Rao bound on the accuracy of a position measurement for a single image.\n",
    "    Returns the expected standard deviation of the position measurement in the x and y directions.\n",
    "    \"\"\"\n",
    "    # calculate derivative at each pixel. Use symmetric two-point derivative\n",
    "    dg_dx = (image[:,2:]-image[:,:-2])/2\n",
    "    dg_dy = (image[2:]-image[:-2])/2\n",
    "\n",
    "    var_x = 1/(jnp.sum(dg_dx**2 / image[:,1:-1]))\n",
    "    var_y = 1/(jnp.sum(dg_dy**2 / image[1:-1]))\n",
    "\n",
    "    std_x = jnp.sqrt(var_x)\n",
    "    std_y = jnp.sqrt(var_y)\n",
    "    \n",
    "    return std_x,std_y\n",
    "\n",
    "def get_cramer(image, flux):\n",
    "    std_x, std_y = cramer_rao_bound(image*flux)\n",
    "    std_sec_x = std_x*jnp.sqrt(3) # magic number is the binary contrast ratio\n",
    "    std_sec_y = std_y*jnp.sqrt(3)\n",
    "\n",
    "    std_sep_x = jnp.sqrt(std_x**2+std_sec_x**2)\n",
    "    std_sep_y = jnp.sqrt(std_y**2+std_sec_y**2)\n",
    "    std_sep = onp.mean([std_sep_x,std_sep_y])\n",
    "    return std_sep"
   ]
  },
  {
   "cell_type": "code",
   "execution_count": 10,
   "id": "b3afb42c-f3c1-4bf0-abc4-9131eeba9a59",
   "metadata": {},
   "outputs": [],
   "source": [
    "def get_just_anchorpoints(image, neighborhood_size = 7, threshold = 0.25, stretch =2):\n",
    "    \n",
    "    data = image/onp.max(image)\n",
    "    data = data**stretch\n",
    "    data_max = filters.maximum_filter(data, neighborhood_size)\n",
    "    maxima = (data == data_max)\n",
    "    data_min = filters.minimum_filter(data, neighborhood_size)\n",
    "    diff = ((data_max - data_min) > threshold)\n",
    "    maxima[diff == 0] = 0\n",
    "\n",
    "    labeled, num_objects = ndimage.label(maxima)\n",
    "    slices = ndimage.find_objects(labeled)\n",
    "    x, y = [], []\n",
    "    for dy,dx in slices:\n",
    "        x_center = (dx.start + dx.stop - 1)/2\n",
    "        x.append(x_center)\n",
    "        y_center = (dy.start + dy.stop - 1)/2    \n",
    "        y.append(y_center)\n",
    "        \n",
    "    X = onp.array(x).reshape(-1,1)\n",
    "    Y = onp.array(y).reshape(-1,1)\n",
    "\n",
    "    positions = onp.hstack((X, Y))\n",
    "    \n",
    "    com_coords = onp.array([0,0])\n",
    "            # y, x ?\n",
    "        \n",
    "    entered = False\n",
    "    for i in range(onp.shape(positions)[0]):\n",
    "        entered = True\n",
    "        window = 6  #seems optimal to not overlap with other features\n",
    "        lowx = int(positions[i,1] - window)\n",
    "        highx = int(positions[i,1] + window)\n",
    "\n",
    "        lowy = int(positions[i,0] - window)\n",
    "        highy = int(positions[i,0] + window)\n",
    "\n",
    "        com = onp.array([ndimage.center_of_mass(image[lowx:highx+1, lowy:highy+1])])\n",
    "        com = com[0]\n",
    "        com[1] = com[1] + lowx\n",
    "        com[0] = com[0] + lowy\n",
    "        com_coords = onp.vstack((com_coords, com))\n",
    "        \n",
    "    if entered == False:\n",
    "        print('Error: No anchors found - bad params')\n",
    "        a = onp.random.randint(low = 50, high = 999999)\n",
    "        b = onp.random.randint(low = 50, high = 999999)\n",
    "        com_coords = onp.array([a,b])\n",
    "        return [dist_array, com_coords]\n",
    "        \n",
    "    com_coords = com_coords[1:,:]\n",
    "\n",
    "    \n",
    "    #print('Number of Anchors: ' + str(len(x)))\n",
    "    #print('Expected number of connections: ' + str(int(len(x)*(len(x)-1)*0.5)))\n",
    "    #print('Actual number of connections: ' + str(np.shape(dist_array)[0]))\n",
    "    return com_coords"
   ]
  },
  {
   "cell_type": "code",
   "execution_count": 11,
   "id": "fe0518ca-9bbd-4dc4-b1de-3d8524044dfc",
   "metadata": {},
   "outputs": [],
   "source": [
    "def get_really_stable_anchors(full_image, neighborhood_size = 7, threshold = 0.25, stretch = 2, flux = 1.8e9*60*60, iterations = 10):\n",
    "    #input must be the full image (2000,2000)\n",
    "    #returns anchors that are very close to clean anchors\n",
    "    num_pix = 512\n",
    "    #image_centre = full_image[750:1250,750:1250]/onp.max(full_image[750:1250,750:1250])\n",
    "    image_centre = full_image\n",
    "    \n",
    "    clean_anchors = get_just_anchorpoints(image_centre, neighborhood_size, threshold, stretch)\n",
    "    num_anchors = onp.shape(clean_anchors)[0]\n",
    "    \n",
    "    X_positions = onp.zeros((num_anchors + 10, iterations+1))\n",
    "    Y_positions = onp.zeros((num_anchors + 10, iterations+1))\n",
    "    \n",
    "    X_positions[:num_anchors,0] = clean_anchors[:,0]\n",
    "    Y_positions[:num_anchors,0] = clean_anchors[:,1]\n",
    "\n",
    "    for i in range(iterations):\n",
    "        # adds photon noise and dark current\n",
    "        dark_current = 2 # electrons\n",
    "        PSF_photons = apply_photon_noise(flux * full_image)\n",
    "        detector_noise = generate_detector_noise(num_pix, 1, dark_current)\n",
    "        noisy_PSF = PSF_photons + detector_noise\n",
    "        noisy_PSF = onp.asarray(noisy_PSF)\n",
    "        #noisy_centre = noisy_PSF[750:1250,750:1250]/onp.max(noisy_PSF[750:1250,750:1250])\n",
    "        noisy_centre = noisy_PSF/onp.max(noisy_PSF)\n",
    "        \n",
    "        noisy_anchors = get_just_anchorpoints(noisy_centre, neighborhood_size, threshold, stretch)\n",
    "        \n",
    "        for j in range(onp.shape(noisy_anchors)[0]):\n",
    "            # ensures we are comparing the same anchorpoints by finding distance between them. Could probably be optimised idk\n",
    "                dist = onp.sqrt((clean_anchors[:,0] - noisy_anchors[j,0])**2 + (clean_anchors[:,1] - noisy_anchors[j,1])**2)\n",
    "                closest = onp.argwhere(dist == onp.min(dist))[0]\n",
    "                \n",
    "                if dist[closest] < 2:\n",
    "                    X_positions[closest, i+1] = noisy_anchors[j,0]\n",
    "                    Y_positions[closest, i+1] = noisy_anchors[j,1]\n",
    "                    \n",
    "                    \n",
    "    New_X = onp.zeros((1,iterations+1))   \n",
    "    New_Y = onp.zeros((1,iterations+1))               \n",
    "\n",
    "    for i in range(onp.shape(X_positions)[0]):\n",
    "        check = onp.any(X_positions[i] == 0)\n",
    "        \n",
    "        var1 = onp.std(X_positions[i])\n",
    "        var2 = onp.std(Y_positions[i])\n",
    "        av_var = (var1+var2)/2\n",
    "        \n",
    "        if check == False and av_var < 0.001:\n",
    "            New_X = onp.vstack((New_X, X_positions[i]))\n",
    "            New_Y = onp.vstack((New_Y, Y_positions[i]))\n",
    "\n",
    "    New_X = New_X[1:,:]\n",
    "    New_Y = New_Y[1:,:]\n",
    "    \n",
    "\n",
    "    return New_X, New_Y"
   ]
  },
  {
   "cell_type": "code",
   "execution_count": 12,
   "id": "b362dacf-6f9e-4d22-9640-e832670fea3c",
   "metadata": {
    "tags": []
   },
   "outputs": [
    {
     "name": "stdout",
     "output_type": "stream",
     "text": [
      "Piston:  1.000\n",
      "Tilt X:  3.984\n",
      "Tilt Y:  3.984\n",
      "Focus:  3.464\n",
      "Astigmatism 45:  4.890\n",
      "Astigmatism 0:  4.861\n",
      "Coma Y:  5.634\n",
      "Coma X:  5.634\n",
      "Trefoil Y:  5.651\n",
      "Trefoil X:  5.651\n",
      "Spherical:  3.354\n",
      "2nd Astig 0:  6.225\n",
      "2nd Astig 45:  6.295\n",
      "Tetrafoil 0:  6.264\n",
      "Tetrafoil 22.5:  6.316\n",
      "2nd coma X:  6.898\n",
      "2nd coma Y:  6.898\n",
      "3rd Astig X:  6.909\n",
      "3rd Astig Y:  6.909\n",
      "Pentafoil X:  6.901\n"
     ]
    }
   ],
   "source": [
    "# get normalisation factors\n",
    "zern_coeffs = onp.ones(20)*0\n",
    "opsys = morphine.OpticalSystem(npix = num_pix)\n",
    "opsys.add_pupil(toliman_Sidelobes)\n",
    "opsys.pupil_diameter = pdiam2 \n",
    "wf = opsys.input_wavefront()\n",
    "thinlens = morphine.ZernikeWFE(radius=pdiam2/2, coefficients=zern_coeffs, cached_zernikes=zernikes)\n",
    "\n",
    "norm_factors = onp.ones(20)\n",
    "for i in range(20):\n",
    "    zern_coeffs = onp.zeros(20)\n",
    "    zern_coeffs[i] = 1\n",
    "    thinlens = morphine.ZernikeWFE(radius=pdiam2/2, coefficients=zern_coeffs, cached_zernikes=zernikes)\n",
    "    wf = opsys.input_wavefront(550e-9)\n",
    "\n",
    "    name = morphine.zernike.zern_name(i+1)\n",
    "    theMax = jnp.max(thinlens.get_opd(wf))\n",
    "    theMin = jnp.min(thinlens.get_opd(wf))\n",
    "\n",
    "    diff = theMax - theMin\n",
    "    norm_factors[i] = diff\n",
    "    print(name + str(':  {:.3f}'.format(diff)))\n",
    "\n"
   ]
  },
  {
   "cell_type": "code",
   "execution_count": 13,
   "id": "44560f2e-488a-4152-bbf1-a529ac05b425",
   "metadata": {},
   "outputs": [],
   "source": [
    "def objective2(params, input_image, zernikes):\n",
    "    opsys = generate_opsys(zernikes)\n",
    " \n",
    "\n",
    "    if len(params) == 1:\n",
    "        offset = params[0]\n",
    "        \n",
    "        fmodel_image = get_double_bb_psf(6+offset,90,opsys, wavs, weights_A, weights_B)\n",
    "    elif len(params) == 2:\n",
    "        offset = params[0]\n",
    "        roll   = params[1]\n",
    "        \n",
    "        fmodel_image = get_double_bb_psf(6+offset,90+roll,opsys, wavs, weights_A, weights_B)\n",
    "    elif len(params) == 4:\n",
    "        offset       = params[0]\n",
    "        roll         = params[1]\n",
    "        jitter_r     = params[2]\n",
    "        jitter_theta = params[3]\n",
    "        \n",
    "        fmodel_image = get_double_bb_psf(6+offset+jitter_r ,90+roll+jitter_theta ,opsys, wavs, weights_A, weights_B)\n",
    "        ## fix this\n",
    "    noise = jnp.sqrt(input_image)\n",
    "    \n",
    "    residual = (input_image - fmodel_image)/noise\n",
    "    \n",
    "    chi2 = jnp.sum(residual**2)\n",
    "    \n",
    "    return chi2"
   ]
  },
  {
   "cell_type": "code",
   "execution_count": 14,
   "id": "73dfbac8-029b-476b-a79f-4ac43afdf0a9",
   "metadata": {},
   "outputs": [],
   "source": [
    "gradient2 = grad(objective2)\n"
   ]
  },
  {
   "cell_type": "code",
   "execution_count": 15,
   "id": "dd500786-2542-4100-8667-4f68466e8db9",
   "metadata": {},
   "outputs": [
    {
     "data": {
      "text/plain": [
       "[<matplotlib.lines.Line2D at 0x7ff2e8423100>]"
      ]
     },
     "execution_count": 15,
     "metadata": {},
     "output_type": "execute_result"
    },
    {
     "data": {
      "image/png": "[encoded data removed]",
      "text/plain": [
       "<Figure size 432x288 with 1 Axes>"
      ]
     },
     "metadata": {
      "needs_background": "light"
     },
     "output_type": "display_data"
    }
   ],
   "source": [
    "t = onp.linspace(0,500,501)\n",
    "planet_signal = 0.5e-6*onp.sin(2*jnp.pi*(1/500)*t)\n",
    "\n",
    "plt.plot(planet_signal)"
   ]
  },
  {
   "cell_type": "code",
   "execution_count": 14,
   "id": "e9899fd4-4f18-4a28-ab10-65d888a3c5f9",
   "metadata": {},
   "outputs": [
    {
     "name": "stdout",
     "output_type": "stream",
     "text": [
      "CPU times: user 1.34 s, sys: 263 ms, total: 1.6 s\n",
      "Wall time: 987 ms\n"
     ]
    }
   ],
   "source": [
    "%%time\n",
    "osys = generate_opsys(jnp.zeros((20)))"
   ]
  },
  {
   "cell_type": "code",
   "execution_count": 16,
   "id": "f6c8400a-f99e-4d89-b969-d14238a9ce63",
   "metadata": {},
   "outputs": [
    {
     "name": "stdout",
     "output_type": "stream",
     "text": [
      "Sum of image: 0.9999999999999999\n",
      "Max of image: 0.0001263014112985063\n",
      "CPU times: user 20.6 s, sys: 1.87 s, total: 22.5 s\n",
      "Wall time: 9.93 s\n"
     ]
    },
    {
     "data": {
      "text/plain": [
       "<matplotlib.image.AxesImage at 0x7fa4a41ec3a0>"
      ]
     },
     "execution_count": 16,
     "metadata": {},
     "output_type": "execute_result"
    },
    {
     "data": {
      "image/png": "[encoded data removed]",
      "text/plain": [
       "<Figure size 432x288 with 1 Axes>"
      ]
     },
     "metadata": {
      "needs_background": "light"
     },
     "output_type": "display_data"
    }
   ],
   "source": [
    "%%time\n",
    "osys = generate_opsys(1e-7*jnp.ones(20))\n",
    "image = get_double_bb_psf(6,90,osys, wavels = wavs,weights1 =  weights_A, weights2 = weights_B)\n",
    "print('Sum of image: ' + str(jnp.sum(image)))\n",
    "print('Max of image: ' + str(jnp.max(image)))\n",
    "plt.imshow(image)"
   ]
  },
  {
   "cell_type": "code",
   "execution_count": null,
   "id": "9d0244b4-07f0-4c19-a5cd-eeecf117b817",
   "metadata": {},
   "outputs": [],
   "source": []
  },
  {
   "cell_type": "code",
   "execution_count": 75,
   "id": "a559ce79-2fed-477b-84ef-25880e283138",
   "metadata": {},
   "outputs": [
    {
     "name": "stdout",
     "output_type": "stream",
     "text": [
      "CPU times: user 5.96 s, sys: 640 ms, total: 6.6 s\n",
      "Wall time: 897 ms\n"
     ]
    },
    {
     "data": {
      "text/plain": [
       "<matplotlib.image.AxesImage at 0x7f11cc6d8940>"
      ]
     },
     "execution_count": 75,
     "metadata": {},
     "output_type": "execute_result"
    },
    {
     "data": {
      "image/png": "[encoded data removed]",
      "text/plain": [
       "<Figure size 432x288 with 1 Axes>"
      ]
     },
     "metadata": {
      "needs_background": "light"
     },
     "output_type": "display_data"
    }
   ],
   "source": [
    "%%time\n",
    "image = get_bb_psf(0,0,osys, wavs, weights_A)\n",
    "plt.imshow(image)"
   ]
  },
  {
   "cell_type": "code",
   "execution_count": 38,
   "id": "95b02c2b-1a35-4df9-890f-2cc2068507c3",
   "metadata": {},
   "outputs": [
    {
     "name": "stdout",
     "output_type": "stream",
     "text": [
      "CPU times: user 11min 5s, sys: 23.7 s, total: 11min 29s\n",
      "Wall time: 1min 7s\n"
     ]
    },
    {
     "data": {
      "text/plain": [
       "<matplotlib.image.AxesImage at 0x7ff30c6b4b20>"
      ]
     },
     "execution_count": 38,
     "metadata": {},
     "output_type": "execute_result"
    },
    {
     "data": {
      "image/png": "[encoded data removed]",
      "text/plain": [
       "<Figure size 432x288 with 1 Axes>"
      ]
     },
     "metadata": {
      "needs_background": "light"
     },
     "output_type": "display_data"
    }
   ],
   "source": [
    "%%time\n",
    "pscale = 0.2\n",
    "osys = generate_opsys(jnp.zeros((20)))\n",
    "image = get_bb_psf(0,0,osys, wavs, weights_A)\n",
    "plt.imshow(image)"
   ]
  },
  {
   "cell_type": "code",
   "execution_count": 34,
   "id": "a8639f4c-2ff9-439f-8b1d-84a3a69949ab",
   "metadata": {},
   "outputs": [
    {
     "name": "stdout",
     "output_type": "stream",
     "text": [
      "6.410260520173239e-07\n",
      "(2000, 2000)\n"
     ]
    }
   ],
   "source": [
    "print(0.156/0.1559999 - 1)\n",
    "nn = onp.load('Pscale50wavs/0.15599997.npy')\n",
    "print(onp.shape(nn))"
   ]
  },
  {
   "cell_type": "code",
   "execution_count": 16,
   "id": "a5aaebdf-e1be-4220-b6cc-b6410bcef616",
   "metadata": {
    "collapsed": true,
    "jupyter": {
     "outputs_hidden": true
    },
    "tags": []
   },
   "outputs": [
    {
     "name": "stdout",
     "output_type": "stream",
     "text": [
      "[0.15599975 0.15599985 0.15599995 0.15600005 0.15600015 0.15600025\n",
      " 0.15600035]\n"
     ]
    },
    {
     "data": {
      "application/vnd.jupyter.widget-view+json": {
       "model_id": "158b03991ca64e938453b35ba047acf2",
       "version_major": 2,
       "version_minor": 0
      },
      "text/plain": [
       "  0%|          | 0/4 [00:00<?, ?it/s]"
      ]
     },
     "metadata": {},
     "output_type": "display_data"
    },
    {
     "name": "stdout",
     "output_type": "stream",
     "text": [
      "0.15600003\n"
     ]
    },
    {
     "ename": "KeyboardInterrupt",
     "evalue": "",
     "output_type": "error",
     "traceback": [
      "\u001b[0;31m---------------------------------------------------------------------------\u001b[0m",
      "\u001b[0;31mKeyboardInterrupt\u001b[0m                         Traceback (most recent call last)",
      "\u001b[0;32m<ipython-input-16-47f993ef8406>\u001b[0m in \u001b[0;36m<module>\u001b[0;34m\u001b[0m\n\u001b[1;32m      8\u001b[0m     \u001b[0mpscale\u001b[0m \u001b[0;34m=\u001b[0m \u001b[0mp\u001b[0m\u001b[0;34m\u001b[0m\u001b[0;34m\u001b[0m\u001b[0m\n\u001b[1;32m      9\u001b[0m     \u001b[0mosys\u001b[0m \u001b[0;34m=\u001b[0m \u001b[0mgenerate_opsys\u001b[0m\u001b[0;34m(\u001b[0m\u001b[0mjnp\u001b[0m\u001b[0;34m.\u001b[0m\u001b[0mzeros\u001b[0m\u001b[0;34m(\u001b[0m\u001b[0;34m(\u001b[0m\u001b[0;36m20\u001b[0m\u001b[0;34m)\u001b[0m\u001b[0;34m)\u001b[0m\u001b[0;34m)\u001b[0m\u001b[0;34m\u001b[0m\u001b[0;34m\u001b[0m\u001b[0m\n\u001b[0;32m---> 10\u001b[0;31m     \u001b[0mimage\u001b[0m \u001b[0;34m=\u001b[0m \u001b[0mget_bb_psf\u001b[0m\u001b[0;34m(\u001b[0m\u001b[0;36m0\u001b[0m\u001b[0;34m,\u001b[0m\u001b[0;36m0\u001b[0m\u001b[0;34m,\u001b[0m\u001b[0mosys\u001b[0m\u001b[0;34m,\u001b[0m \u001b[0mwavs\u001b[0m\u001b[0;34m,\u001b[0m \u001b[0mweights_A\u001b[0m\u001b[0;34m)\u001b[0m\u001b[0;34m\u001b[0m\u001b[0;34m\u001b[0m\u001b[0m\n\u001b[0m\u001b[1;32m     11\u001b[0m     \u001b[0monp\u001b[0m\u001b[0;34m.\u001b[0m\u001b[0msave\u001b[0m\u001b[0;34m(\u001b[0m\u001b[0;34m'Pscale50wavs/{:.8f}'\u001b[0m\u001b[0;34m.\u001b[0m\u001b[0mformat\u001b[0m\u001b[0;34m(\u001b[0m\u001b[0mp\u001b[0m\u001b[0;34m)\u001b[0m\u001b[0;34m,\u001b[0m \u001b[0mimage\u001b[0m\u001b[0;34m)\u001b[0m\u001b[0;34m\u001b[0m\u001b[0;34m\u001b[0m\u001b[0m\n",
      "\u001b[0;32m<ipython-input-7-c9a016faa8a8>\u001b[0m in \u001b[0;36mget_bb_psf\u001b[0;34m(r, theta, osys, wavels, weights, sigma)\u001b[0m\n\u001b[1;32m     26\u001b[0m \u001b[0;34m\u001b[0m\u001b[0m\n\u001b[1;32m     27\u001b[0m \u001b[0;32mdef\u001b[0m \u001b[0mget_bb_psf\u001b[0m\u001b[0;34m(\u001b[0m\u001b[0mr\u001b[0m\u001b[0;34m,\u001b[0m \u001b[0mtheta\u001b[0m\u001b[0;34m,\u001b[0m \u001b[0mosys\u001b[0m\u001b[0;34m,\u001b[0m \u001b[0mwavels\u001b[0m\u001b[0;34m,\u001b[0m \u001b[0mweights\u001b[0m\u001b[0;34m,\u001b[0m \u001b[0msigma\u001b[0m\u001b[0;34m=\u001b[0m\u001b[0;36m0\u001b[0m\u001b[0;34m)\u001b[0m\u001b[0;34m:\u001b[0m\u001b[0;34m\u001b[0m\u001b[0;34m\u001b[0m\u001b[0m\n\u001b[0;32m---> 28\u001b[0;31m     \u001b[0mpsf_stack\u001b[0m \u001b[0;34m=\u001b[0m \u001b[0mget_psf_vmap\u001b[0m\u001b[0;34m(\u001b[0m\u001b[0mr\u001b[0m\u001b[0;34m,\u001b[0m \u001b[0mtheta\u001b[0m\u001b[0;34m,\u001b[0m \u001b[0mosys\u001b[0m\u001b[0;34m,\u001b[0m \u001b[0mwavels\u001b[0m\u001b[0;34m)\u001b[0m\u001b[0;34m\u001b[0m\u001b[0;34m\u001b[0m\u001b[0m\n\u001b[0m\u001b[1;32m     29\u001b[0m     \u001b[0mpsf_stack\u001b[0m \u001b[0;34m*=\u001b[0m \u001b[0mweights\u001b[0m\u001b[0;34m.\u001b[0m\u001b[0mreshape\u001b[0m\u001b[0;34m(\u001b[0m\u001b[0;34m[\u001b[0m\u001b[0mlen\u001b[0m\u001b[0;34m(\u001b[0m\u001b[0mweights\u001b[0m\u001b[0;34m)\u001b[0m\u001b[0;34m,\u001b[0m \u001b[0;36m1\u001b[0m\u001b[0;34m,\u001b[0m \u001b[0;36m1\u001b[0m\u001b[0;34m]\u001b[0m\u001b[0;34m)\u001b[0m\u001b[0;34m\u001b[0m\u001b[0;34m\u001b[0m\u001b[0m\n\u001b[1;32m     30\u001b[0m     \u001b[0mpsf\u001b[0m \u001b[0;34m=\u001b[0m \u001b[0mjnp\u001b[0m\u001b[0;34m.\u001b[0m\u001b[0msum\u001b[0m\u001b[0;34m(\u001b[0m\u001b[0mpsf_stack\u001b[0m\u001b[0;34m,\u001b[0m \u001b[0maxis\u001b[0m\u001b[0;34m=\u001b[0m\u001b[0;36m0\u001b[0m\u001b[0;34m)\u001b[0m\u001b[0;34m\u001b[0m\u001b[0;34m\u001b[0m\u001b[0m\n",
      "\u001b[0;32m~/.conda/envs/main/lib/python3.9/site-packages/jax/traceback_util.py\u001b[0m in \u001b[0;36mreraise_with_filtered_traceback\u001b[0;34m(*args, **kwargs)\u001b[0m\n\u001b[1;32m    134\u001b[0m   \u001b[0;32mdef\u001b[0m \u001b[0mreraise_with_filtered_traceback\u001b[0m\u001b[0;34m(\u001b[0m\u001b[0;34m*\u001b[0m\u001b[0margs\u001b[0m\u001b[0;34m,\u001b[0m \u001b[0;34m**\u001b[0m\u001b[0mkwargs\u001b[0m\u001b[0;34m)\u001b[0m\u001b[0;34m:\u001b[0m\u001b[0;34m\u001b[0m\u001b[0;34m\u001b[0m\u001b[0m\n\u001b[1;32m    135\u001b[0m     \u001b[0;32mtry\u001b[0m\u001b[0;34m:\u001b[0m\u001b[0;34m\u001b[0m\u001b[0;34m\u001b[0m\u001b[0m\n\u001b[0;32m--> 136\u001b[0;31m       \u001b[0;32mreturn\u001b[0m \u001b[0mfun\u001b[0m\u001b[0;34m(\u001b[0m\u001b[0;34m*\u001b[0m\u001b[0margs\u001b[0m\u001b[0;34m,\u001b[0m \u001b[0;34m**\u001b[0m\u001b[0mkwargs\u001b[0m\u001b[0;34m)\u001b[0m\u001b[0;34m\u001b[0m\u001b[0;34m\u001b[0m\u001b[0m\n\u001b[0m\u001b[1;32m    137\u001b[0m     \u001b[0;32mexcept\u001b[0m \u001b[0mException\u001b[0m \u001b[0;32mas\u001b[0m \u001b[0me\u001b[0m\u001b[0;34m:\u001b[0m\u001b[0;34m\u001b[0m\u001b[0;34m\u001b[0m\u001b[0m\n\u001b[1;32m    138\u001b[0m       \u001b[0;32mif\u001b[0m \u001b[0;32mnot\u001b[0m \u001b[0mis_under_reraiser\u001b[0m\u001b[0;34m(\u001b[0m\u001b[0me\u001b[0m\u001b[0;34m)\u001b[0m\u001b[0;34m:\u001b[0m\u001b[0;34m\u001b[0m\u001b[0;34m\u001b[0m\u001b[0m\n",
      "\u001b[0;32m~/.conda/envs/main/lib/python3.9/site-packages/jax/api.py\u001b[0m in \u001b[0;36mbatched_fun\u001b[0;34m(*args)\u001b[0m\n\u001b[1;32m   1222\u001b[0m     \u001b[0min_axes_flat\u001b[0m \u001b[0;34m=\u001b[0m \u001b[0mflatten_axes\u001b[0m\u001b[0;34m(\u001b[0m\u001b[0;34m\"vmap in_axes\"\u001b[0m\u001b[0;34m,\u001b[0m \u001b[0min_tree\u001b[0m\u001b[0;34m,\u001b[0m \u001b[0min_axes\u001b[0m\u001b[0;34m)\u001b[0m\u001b[0;34m\u001b[0m\u001b[0;34m\u001b[0m\u001b[0m\n\u001b[1;32m   1223\u001b[0m     \u001b[0m_\u001b[0m \u001b[0;34m=\u001b[0m \u001b[0m_mapped_axis_size\u001b[0m\u001b[0;34m(\u001b[0m\u001b[0min_tree\u001b[0m\u001b[0;34m,\u001b[0m \u001b[0margs_flat\u001b[0m\u001b[0;34m,\u001b[0m \u001b[0min_axes_flat\u001b[0m\u001b[0;34m,\u001b[0m \u001b[0;34m\"vmap\"\u001b[0m\u001b[0;34m)\u001b[0m\u001b[0;34m\u001b[0m\u001b[0;34m\u001b[0m\u001b[0m\n\u001b[0;32m-> 1224\u001b[0;31m     out_flat = batching.batch(flat_fun, args_flat, in_axes_flat,\n\u001b[0m\u001b[1;32m   1225\u001b[0m                               lambda: flatten_axes(\"vmap out_axes\", out_tree(),\n\u001b[1;32m   1226\u001b[0m                                                    out_axes),\n",
      "\u001b[0;32m~/.conda/envs/main/lib/python3.9/site-packages/jax/interpreters/batching.py\u001b[0m in \u001b[0;36mbatch\u001b[0;34m(fun, in_vals, in_dims, out_dim_dests, axis_name)\u001b[0m\n\u001b[1;32m     34\u001b[0m   \u001b[0;31m# executes a batched version of `fun` following out_dim_dests\u001b[0m\u001b[0;34m\u001b[0m\u001b[0;34m\u001b[0m\u001b[0;34m\u001b[0m\u001b[0m\n\u001b[1;32m     35\u001b[0m   \u001b[0mbatched_fun\u001b[0m \u001b[0;34m=\u001b[0m \u001b[0mbatch_fun\u001b[0m\u001b[0;34m(\u001b[0m\u001b[0mfun\u001b[0m\u001b[0;34m,\u001b[0m \u001b[0min_dims\u001b[0m\u001b[0;34m,\u001b[0m \u001b[0mout_dim_dests\u001b[0m\u001b[0;34m,\u001b[0m \u001b[0maxis_name\u001b[0m\u001b[0;34m=\u001b[0m\u001b[0maxis_name\u001b[0m\u001b[0;34m)\u001b[0m\u001b[0;34m\u001b[0m\u001b[0;34m\u001b[0m\u001b[0m\n\u001b[0;32m---> 36\u001b[0;31m   \u001b[0;32mreturn\u001b[0m \u001b[0mbatched_fun\u001b[0m\u001b[0;34m.\u001b[0m\u001b[0mcall_wrapped\u001b[0m\u001b[0;34m(\u001b[0m\u001b[0;34m*\u001b[0m\u001b[0min_vals\u001b[0m\u001b[0;34m)\u001b[0m\u001b[0;34m\u001b[0m\u001b[0;34m\u001b[0m\u001b[0m\n\u001b[0m\u001b[1;32m     37\u001b[0m \u001b[0;34m\u001b[0m\u001b[0m\n\u001b[1;32m     38\u001b[0m \u001b[0;34m@\u001b[0m\u001b[0mlu\u001b[0m\u001b[0;34m.\u001b[0m\u001b[0mtransformation_with_aux\u001b[0m\u001b[0;34m\u001b[0m\u001b[0;34m\u001b[0m\u001b[0m\n",
      "\u001b[0;32m~/.conda/envs/main/lib/python3.9/site-packages/jax/linear_util.py\u001b[0m in \u001b[0;36mcall_wrapped\u001b[0;34m(self, *args, **kwargs)\u001b[0m\n\u001b[1;32m    149\u001b[0m \u001b[0;34m\u001b[0m\u001b[0m\n\u001b[1;32m    150\u001b[0m     \u001b[0;32mtry\u001b[0m\u001b[0;34m:\u001b[0m\u001b[0;34m\u001b[0m\u001b[0;34m\u001b[0m\u001b[0m\n\u001b[0;32m--> 151\u001b[0;31m       \u001b[0mans\u001b[0m \u001b[0;34m=\u001b[0m \u001b[0mself\u001b[0m\u001b[0;34m.\u001b[0m\u001b[0mf\u001b[0m\u001b[0;34m(\u001b[0m\u001b[0;34m*\u001b[0m\u001b[0margs\u001b[0m\u001b[0;34m,\u001b[0m \u001b[0;34m**\u001b[0m\u001b[0mdict\u001b[0m\u001b[0;34m(\u001b[0m\u001b[0mself\u001b[0m\u001b[0;34m.\u001b[0m\u001b[0mparams\u001b[0m\u001b[0;34m,\u001b[0m \u001b[0;34m**\u001b[0m\u001b[0mkwargs\u001b[0m\u001b[0;34m)\u001b[0m\u001b[0;34m)\u001b[0m\u001b[0;34m\u001b[0m\u001b[0;34m\u001b[0m\u001b[0m\n\u001b[0m\u001b[1;32m    152\u001b[0m     \u001b[0;32mexcept\u001b[0m\u001b[0;34m:\u001b[0m\u001b[0;34m\u001b[0m\u001b[0;34m\u001b[0m\u001b[0m\n\u001b[1;32m    153\u001b[0m       \u001b[0;31m# Some transformations yield from inside context managers, so we have to\u001b[0m\u001b[0;34m\u001b[0m\u001b[0;34m\u001b[0m\u001b[0;34m\u001b[0m\u001b[0m\n",
      "\u001b[0;32m<ipython-input-7-c9a016faa8a8>\u001b[0m in \u001b[0;36mget_psf\u001b[0;34m(r, theta, osys, wl)\u001b[0m\n\u001b[1;32m     21\u001b[0m     \u001b[0mosys\u001b[0m\u001b[0;34m.\u001b[0m\u001b[0msource_offset_r\u001b[0m \u001b[0;34m=\u001b[0m \u001b[0mr\u001b[0m \u001b[0;31m# arcseconds\u001b[0m\u001b[0;34m\u001b[0m\u001b[0;34m\u001b[0m\u001b[0m\n\u001b[1;32m     22\u001b[0m     \u001b[0mosys\u001b[0m\u001b[0;34m.\u001b[0m\u001b[0msource_offset_theta\u001b[0m \u001b[0;34m=\u001b[0m \u001b[0mtheta\u001b[0m \u001b[0;31m# degrees\u001b[0m\u001b[0;34m\u001b[0m\u001b[0;34m\u001b[0m\u001b[0m\n\u001b[0;32m---> 23\u001b[0;31m     \u001b[0mpsf\u001b[0m \u001b[0;34m=\u001b[0m \u001b[0mosys\u001b[0m\u001b[0;34m.\u001b[0m\u001b[0mpropagate_mono\u001b[0m\u001b[0;34m(\u001b[0m\u001b[0mwl\u001b[0m\u001b[0;34m)\u001b[0m\u001b[0;34m[\u001b[0m\u001b[0;36m0\u001b[0m\u001b[0;34m]\u001b[0m\u001b[0;34m.\u001b[0m\u001b[0mintensity\u001b[0m\u001b[0;34m\u001b[0m\u001b[0;34m\u001b[0m\u001b[0m\n\u001b[0m\u001b[1;32m     24\u001b[0m     \u001b[0;32mreturn\u001b[0m \u001b[0mpsf\u001b[0m\u001b[0;34m/\u001b[0m\u001b[0monp\u001b[0m\u001b[0;34m.\u001b[0m\u001b[0msum\u001b[0m\u001b[0;34m(\u001b[0m\u001b[0mpsf\u001b[0m\u001b[0;34m)\u001b[0m\u001b[0;34m\u001b[0m\u001b[0;34m\u001b[0m\u001b[0m\n\u001b[1;32m     25\u001b[0m \u001b[0mget_psf_vmap\u001b[0m \u001b[0;34m=\u001b[0m \u001b[0mvmap\u001b[0m\u001b[0;34m(\u001b[0m\u001b[0mget_psf\u001b[0m\u001b[0;34m,\u001b[0m \u001b[0min_axes\u001b[0m\u001b[0;34m=\u001b[0m\u001b[0;34m(\u001b[0m\u001b[0;32mNone\u001b[0m\u001b[0;34m,\u001b[0m \u001b[0;32mNone\u001b[0m\u001b[0;34m,\u001b[0m \u001b[0;32mNone\u001b[0m\u001b[0;34m,\u001b[0m \u001b[0;36m0\u001b[0m\u001b[0;34m)\u001b[0m\u001b[0;34m)\u001b[0m\u001b[0;34m\u001b[0m\u001b[0;34m\u001b[0m\u001b[0m\n",
      "\u001b[0;32m~/.conda/envs/main/lib/python3.9/site-packages/morphine_optics-0.9.3-py3.9.egg/morphine/morphine_core.py\u001b[0m in \u001b[0;36mpropagate_mono\u001b[0;34m(self, wavelength, normalize, retain_intermediates, retain_final, display_intermediates)\u001b[0m\n\u001b[1;32m   1737\u001b[0m             \u001b[0mwavefront\u001b[0m\u001b[0;34m,\u001b[0m \u001b[0mintermediate_wfs\u001b[0m \u001b[0;34m=\u001b[0m \u001b[0mself\u001b[0m\u001b[0;34m.\u001b[0m\u001b[0mpropagate\u001b[0m\u001b[0;34m(\u001b[0m\u001b[0mwavefront\u001b[0m\u001b[0;34m,\u001b[0m \u001b[0;34m**\u001b[0m\u001b[0mkwargs\u001b[0m\u001b[0;34m)\u001b[0m\u001b[0;34m\u001b[0m\u001b[0;34m\u001b[0m\u001b[0m\n\u001b[1;32m   1738\u001b[0m         \u001b[0;32melse\u001b[0m\u001b[0;34m:\u001b[0m\u001b[0;34m\u001b[0m\u001b[0;34m\u001b[0m\u001b[0m\n\u001b[0;32m-> 1739\u001b[0;31m             \u001b[0mwavefront\u001b[0m \u001b[0;34m=\u001b[0m \u001b[0mself\u001b[0m\u001b[0;34m.\u001b[0m\u001b[0mpropagate\u001b[0m\u001b[0;34m(\u001b[0m\u001b[0mwavefront\u001b[0m\u001b[0;34m,\u001b[0m \u001b[0;34m**\u001b[0m\u001b[0mkwargs\u001b[0m\u001b[0;34m)\u001b[0m\u001b[0;34m\u001b[0m\u001b[0;34m\u001b[0m\u001b[0m\n\u001b[0m\u001b[1;32m   1740\u001b[0m             \u001b[0mintermediate_wfs\u001b[0m \u001b[0;34m=\u001b[0m \u001b[0;34m[\u001b[0m\u001b[0;34m]\u001b[0m\u001b[0;34m\u001b[0m\u001b[0;34m\u001b[0m\u001b[0m\n\u001b[1;32m   1741\u001b[0m \u001b[0;34m\u001b[0m\u001b[0m\n",
      "\u001b[0;32m~/.conda/envs/main/lib/python3.9/site-packages/morphine_optics-0.9.3-py3.9.egg/morphine/morphine_core.py\u001b[0m in \u001b[0;36mpropagate\u001b[0;34m(self, wavefront, normalize, return_intermediates, display_intermediates)\u001b[0m\n\u001b[1;32m   2066\u001b[0m         \u001b[0;32mfor\u001b[0m \u001b[0moptic\u001b[0m \u001b[0;32min\u001b[0m \u001b[0mself\u001b[0m\u001b[0;34m.\u001b[0m\u001b[0mplanes\u001b[0m\u001b[0;34m:\u001b[0m\u001b[0;34m\u001b[0m\u001b[0;34m\u001b[0m\u001b[0m\n\u001b[1;32m   2067\u001b[0m             \u001b[0;31m# The actual propagation:\u001b[0m\u001b[0;34m\u001b[0m\u001b[0;34m\u001b[0m\u001b[0;34m\u001b[0m\u001b[0m\n\u001b[0;32m-> 2068\u001b[0;31m             \u001b[0mwavefront\u001b[0m\u001b[0;34m.\u001b[0m\u001b[0mpropagate_to\u001b[0m\u001b[0;34m(\u001b[0m\u001b[0moptic\u001b[0m\u001b[0;34m)\u001b[0m\u001b[0;34m\u001b[0m\u001b[0;34m\u001b[0m\u001b[0m\n\u001b[0m\u001b[1;32m   2069\u001b[0m             \u001b[0mwavefront\u001b[0m \u001b[0;34m*=\u001b[0m \u001b[0moptic\u001b[0m\u001b[0;34m\u001b[0m\u001b[0;34m\u001b[0m\u001b[0m\n\u001b[1;32m   2070\u001b[0m \u001b[0;34m\u001b[0m\u001b[0m\n",
      "\u001b[0;32m~/.conda/envs/main/lib/python3.9/site-packages/morphine_optics-0.9.3-py3.9.egg/morphine/morphine_core.py\u001b[0m in \u001b[0;36mpropagate_to\u001b[0;34m(self, optic)\u001b[0m\n\u001b[1;32m    944\u001b[0m         elif ((optic.planetype == PlaneType.detector or getattr(optic, 'propagation_hint', None) == 'MFT')\n\u001b[1;32m    945\u001b[0m                 and self.planetype == PlaneType.pupil):  # from pupil to detector in image plane: use MFT\n\u001b[0;32m--> 946\u001b[0;31m             \u001b[0mself\u001b[0m\u001b[0;34m.\u001b[0m\u001b[0m_propagate_mft\u001b[0m\u001b[0;34m(\u001b[0m\u001b[0moptic\u001b[0m\u001b[0;34m)\u001b[0m\u001b[0;34m\u001b[0m\u001b[0;34m\u001b[0m\u001b[0m\n\u001b[0m\u001b[1;32m    947\u001b[0m             \u001b[0mself\u001b[0m\u001b[0;34m.\u001b[0m\u001b[0mlocation\u001b[0m \u001b[0;34m=\u001b[0m \u001b[0;34m'before '\u001b[0m \u001b[0;34m+\u001b[0m \u001b[0moptic\u001b[0m\u001b[0;34m.\u001b[0m\u001b[0mname\u001b[0m\u001b[0;34m\u001b[0m\u001b[0;34m\u001b[0m\u001b[0m\n\u001b[1;32m    948\u001b[0m         \u001b[0;32melif\u001b[0m \u001b[0mself\u001b[0m\u001b[0;34m.\u001b[0m\u001b[0mplanetype\u001b[0m \u001b[0;34m==\u001b[0m \u001b[0mPlaneType\u001b[0m\u001b[0;34m.\u001b[0m\u001b[0mimage\u001b[0m \u001b[0;32mand\u001b[0m \u001b[0moptic\u001b[0m\u001b[0;34m.\u001b[0m\u001b[0mplanetype\u001b[0m \u001b[0;34m==\u001b[0m \u001b[0mPlaneType\u001b[0m\u001b[0;34m.\u001b[0m\u001b[0mdetector\u001b[0m\u001b[0;34m:\u001b[0m\u001b[0;34m\u001b[0m\u001b[0;34m\u001b[0m\u001b[0m\n",
      "\u001b[0;32m~/.conda/envs/main/lib/python3.9/site-packages/morphine_optics-0.9.3-py3.9.egg/morphine/morphine_core.py\u001b[0m in \u001b[0;36m_propagate_mft\u001b[0;34m(self, det)\u001b[0m\n\u001b[1;32m   1071\u001b[0m         \u001b[0;31m# This is where a perfect PSF would be centered. Of course any tilts, comas, etc, from the OPD\u001b[0m\u001b[0;34m\u001b[0m\u001b[0;34m\u001b[0m\u001b[0;34m\u001b[0m\u001b[0m\n\u001b[1;32m   1072\u001b[0m         \u001b[0;31m# will probably shift it off elsewhere for an entirely different reason, too.\u001b[0m\u001b[0;34m\u001b[0m\u001b[0;34m\u001b[0m\u001b[0;34m\u001b[0m\u001b[0m\n\u001b[0;32m-> 1073\u001b[0;31m         \u001b[0mself\u001b[0m\u001b[0;34m.\u001b[0m\u001b[0mwavefront\u001b[0m \u001b[0;34m=\u001b[0m \u001b[0mmft\u001b[0m\u001b[0;34m.\u001b[0m\u001b[0mperform\u001b[0m\u001b[0;34m(\u001b[0m\u001b[0mself\u001b[0m\u001b[0;34m.\u001b[0m\u001b[0mwavefront\u001b[0m\u001b[0;34m,\u001b[0m \u001b[0mdet_fov_lam_d\u001b[0m\u001b[0;34m,\u001b[0m \u001b[0mdet_calc_size_pixels\u001b[0m\u001b[0;34m,\u001b[0m \u001b[0moffset\u001b[0m\u001b[0;34m=\u001b[0m\u001b[0mdet_offset\u001b[0m\u001b[0;34m)\u001b[0m\u001b[0;34m\u001b[0m\u001b[0;34m\u001b[0m\u001b[0m\n\u001b[0m\u001b[1;32m   1074\u001b[0m         \u001b[0;31m# _log.debug(\"     Result wavefront: at={0} shape={1} \".format(\u001b[0m\u001b[0;34m\u001b[0m\u001b[0;34m\u001b[0m\u001b[0;34m\u001b[0m\u001b[0m\n\u001b[1;32m   1075\u001b[0m         \u001b[0;31m#     self.location, str(self.shape)))\u001b[0m\u001b[0;34m\u001b[0m\u001b[0;34m\u001b[0m\u001b[0;34m\u001b[0m\u001b[0m\n",
      "\u001b[0;32m~/.conda/envs/main/lib/python3.9/site-packages/morphine_optics-0.9.3-py3.9.egg/morphine/matrixDFT.py\u001b[0m in \u001b[0;36mperform\u001b[0;34m(self, pupil, nlamD, npix, offset)\u001b[0m\n\u001b[1;32m    395\u001b[0m         \u001b[0;31m#     \"offset {}\".format(pupil.shape, self.centering, nlamD, npix, offset)\u001b[0m\u001b[0;34m\u001b[0m\u001b[0;34m\u001b[0m\u001b[0;34m\u001b[0m\u001b[0m\n\u001b[1;32m    396\u001b[0m         \u001b[0;31m# )\u001b[0m\u001b[0;34m\u001b[0m\u001b[0;34m\u001b[0m\u001b[0;34m\u001b[0m\u001b[0m\n\u001b[0;32m--> 397\u001b[0;31m         \u001b[0;32mreturn\u001b[0m \u001b[0mminimal_dft\u001b[0m\u001b[0;34m(\u001b[0m\u001b[0mpupil\u001b[0m\u001b[0;34m,\u001b[0m \u001b[0mnlamD\u001b[0m\u001b[0;34m,\u001b[0m \u001b[0mnpix\u001b[0m\u001b[0;34m)\u001b[0m\u001b[0;34m\u001b[0m\u001b[0;34m\u001b[0m\u001b[0m\n\u001b[0m\u001b[1;32m    398\u001b[0m \u001b[0;34m\u001b[0m\u001b[0m\n\u001b[1;32m    399\u001b[0m \u001b[0;34m\u001b[0m\u001b[0m\n",
      "\u001b[0;32m~/.conda/envs/main/lib/python3.9/site-packages/morphine_optics-0.9.3-py3.9.egg/morphine/matrixDFT.py\u001b[0m in \u001b[0;36mminimal_dft_prim\u001b[0;34m(plane, nlamD, npix)\u001b[0m\n\u001b[1;32m    267\u001b[0m     \u001b[0mYs\u001b[0m \u001b[0;34m=\u001b[0m \u001b[0;34m(\u001b[0m\u001b[0;36m1.0\u001b[0m\u001b[0;34m*\u001b[0m\u001b[0mnp\u001b[0m\u001b[0;34m.\u001b[0m\u001b[0marange\u001b[0m\u001b[0;34m(\u001b[0m\u001b[0mnpupY\u001b[0m\u001b[0;34m)\u001b[0m \u001b[0;34m-\u001b[0m \u001b[0;34m(\u001b[0m\u001b[0mnpupY\u001b[0m\u001b[0;34m)\u001b[0m \u001b[0;34m/\u001b[0m \u001b[0;36m2.0\u001b[0m \u001b[0;34m+\u001b[0m \u001b[0;36m0.5\u001b[0m\u001b[0;34m)\u001b[0m \u001b[0;34m*\u001b[0m \u001b[0mdY\u001b[0m\u001b[0;34m\u001b[0m\u001b[0;34m\u001b[0m\u001b[0m\n\u001b[1;32m    268\u001b[0m \u001b[0;34m\u001b[0m\u001b[0m\n\u001b[0;32m--> 269\u001b[0;31m     \u001b[0mUs\u001b[0m \u001b[0;34m=\u001b[0m \u001b[0;34m(\u001b[0m\u001b[0;36m1.0\u001b[0m\u001b[0;34m*\u001b[0m\u001b[0mnp\u001b[0m\u001b[0;34m.\u001b[0m\u001b[0marange\u001b[0m\u001b[0;34m(\u001b[0m\u001b[0mnpixX\u001b[0m\u001b[0;34m)\u001b[0m \u001b[0;34m-\u001b[0m \u001b[0;34m(\u001b[0m\u001b[0mnpixX\u001b[0m\u001b[0;34m)\u001b[0m \u001b[0;34m/\u001b[0m \u001b[0;36m2.0\u001b[0m \u001b[0;34m+\u001b[0m \u001b[0;36m0.5\u001b[0m\u001b[0;34m)\u001b[0m \u001b[0;34m*\u001b[0m \u001b[0mdU\u001b[0m\u001b[0;34m\u001b[0m\u001b[0;34m\u001b[0m\u001b[0m\n\u001b[0m\u001b[1;32m    270\u001b[0m     \u001b[0mVs\u001b[0m \u001b[0;34m=\u001b[0m \u001b[0;34m(\u001b[0m\u001b[0;36m1.0\u001b[0m\u001b[0;34m*\u001b[0m\u001b[0mnp\u001b[0m\u001b[0;34m.\u001b[0m\u001b[0marange\u001b[0m\u001b[0;34m(\u001b[0m\u001b[0mnpixY\u001b[0m\u001b[0;34m)\u001b[0m \u001b[0;34m-\u001b[0m \u001b[0;34m(\u001b[0m\u001b[0mnpixY\u001b[0m\u001b[0;34m)\u001b[0m \u001b[0;34m/\u001b[0m \u001b[0;36m2.0\u001b[0m \u001b[0;34m+\u001b[0m \u001b[0;36m0.5\u001b[0m\u001b[0;34m)\u001b[0m \u001b[0;34m*\u001b[0m \u001b[0mdV\u001b[0m\u001b[0;34m\u001b[0m\u001b[0;34m\u001b[0m\u001b[0m\n\u001b[1;32m    271\u001b[0m \u001b[0;34m\u001b[0m\u001b[0m\n",
      "\u001b[0;32m~/.conda/envs/main/lib/python3.9/site-packages/jax/numpy/lax_numpy.py\u001b[0m in \u001b[0;36mdeferring_binary_op\u001b[0;34m(self, other)\u001b[0m\n\u001b[1;32m   4473\u001b[0m     \u001b[0;32mif\u001b[0m \u001b[0;32mnot\u001b[0m \u001b[0misinstance\u001b[0m\u001b[0;34m(\u001b[0m\u001b[0mother\u001b[0m\u001b[0;34m,\u001b[0m \u001b[0m_scalar_types\u001b[0m \u001b[0;34m+\u001b[0m \u001b[0m_arraylike_types\u001b[0m \u001b[0;34m+\u001b[0m \u001b[0;34m(\u001b[0m\u001b[0mcore\u001b[0m\u001b[0;34m.\u001b[0m\u001b[0mTracer\u001b[0m\u001b[0;34m,\u001b[0m\u001b[0;34m)\u001b[0m\u001b[0;34m)\u001b[0m\u001b[0;34m:\u001b[0m\u001b[0;34m\u001b[0m\u001b[0;34m\u001b[0m\u001b[0m\n\u001b[1;32m   4474\u001b[0m       \u001b[0;32mreturn\u001b[0m \u001b[0mNotImplemented\u001b[0m\u001b[0;34m\u001b[0m\u001b[0;34m\u001b[0m\u001b[0m\n\u001b[0;32m-> 4475\u001b[0;31m     \u001b[0;32mreturn\u001b[0m \u001b[0mbinary_op\u001b[0m\u001b[0;34m(\u001b[0m\u001b[0mself\u001b[0m\u001b[0;34m,\u001b[0m \u001b[0mother\u001b[0m\u001b[0;34m)\u001b[0m\u001b[0;34m\u001b[0m\u001b[0;34m\u001b[0m\u001b[0m\n\u001b[0m\u001b[1;32m   4476\u001b[0m   \u001b[0;32mreturn\u001b[0m \u001b[0mdeferring_binary_op\u001b[0m\u001b[0;34m\u001b[0m\u001b[0;34m\u001b[0m\u001b[0m\n\u001b[1;32m   4477\u001b[0m \u001b[0;34m\u001b[0m\u001b[0m\n",
      "\u001b[0;32m~/.conda/envs/main/lib/python3.9/site-packages/jax/numpy/lax_numpy.py\u001b[0m in \u001b[0;36mfn\u001b[0;34m(x1, x2)\u001b[0m\n\u001b[1;32m    368\u001b[0m   \u001b[0;32mdef\u001b[0m \u001b[0mfn\u001b[0m\u001b[0;34m(\u001b[0m\u001b[0mx1\u001b[0m\u001b[0;34m,\u001b[0m \u001b[0mx2\u001b[0m\u001b[0;34m)\u001b[0m\u001b[0;34m:\u001b[0m\u001b[0;34m\u001b[0m\u001b[0;34m\u001b[0m\u001b[0m\n\u001b[1;32m    369\u001b[0m     \u001b[0mx1\u001b[0m\u001b[0;34m,\u001b[0m \u001b[0mx2\u001b[0m \u001b[0;34m=\u001b[0m \u001b[0m_promote_args\u001b[0m\u001b[0;34m(\u001b[0m\u001b[0mnumpy_fn\u001b[0m\u001b[0;34m.\u001b[0m\u001b[0m__name__\u001b[0m\u001b[0;34m,\u001b[0m \u001b[0mx1\u001b[0m\u001b[0;34m,\u001b[0m \u001b[0mx2\u001b[0m\u001b[0;34m)\u001b[0m\u001b[0;34m\u001b[0m\u001b[0;34m\u001b[0m\u001b[0m\n\u001b[0;32m--> 370\u001b[0;31m     \u001b[0;32mreturn\u001b[0m \u001b[0mlax_fn\u001b[0m\u001b[0;34m(\u001b[0m\u001b[0mx1\u001b[0m\u001b[0;34m,\u001b[0m \u001b[0mx2\u001b[0m\u001b[0;34m)\u001b[0m \u001b[0;32mif\u001b[0m \u001b[0mx1\u001b[0m\u001b[0;34m.\u001b[0m\u001b[0mdtype\u001b[0m \u001b[0;34m!=\u001b[0m \u001b[0mbool_\u001b[0m \u001b[0;32melse\u001b[0m \u001b[0mbool_lax_fn\u001b[0m\u001b[0;34m(\u001b[0m\u001b[0mx1\u001b[0m\u001b[0;34m,\u001b[0m \u001b[0mx2\u001b[0m\u001b[0;34m)\u001b[0m\u001b[0;34m\u001b[0m\u001b[0;34m\u001b[0m\u001b[0m\n\u001b[0m\u001b[1;32m    371\u001b[0m   \u001b[0;32mreturn\u001b[0m \u001b[0m_wraps\u001b[0m\u001b[0;34m(\u001b[0m\u001b[0mnumpy_fn\u001b[0m\u001b[0;34m)\u001b[0m\u001b[0;34m(\u001b[0m\u001b[0mfn\u001b[0m\u001b[0;34m)\u001b[0m\u001b[0;34m\u001b[0m\u001b[0;34m\u001b[0m\u001b[0m\n\u001b[1;32m    372\u001b[0m   \u001b[0;32mif\u001b[0m \u001b[0mlax_doc\u001b[0m\u001b[0;34m:\u001b[0m\u001b[0;34m\u001b[0m\u001b[0;34m\u001b[0m\u001b[0m\n",
      "\u001b[0;32m~/.conda/envs/main/lib/python3.9/site-packages/jax/lax/lax.py\u001b[0m in \u001b[0;36mmul\u001b[0;34m(x, y)\u001b[0m\n\u001b[1;32m    318\u001b[0m \u001b[0;32mdef\u001b[0m \u001b[0mmul\u001b[0m\u001b[0;34m(\u001b[0m\u001b[0mx\u001b[0m\u001b[0;34m:\u001b[0m \u001b[0mArray\u001b[0m\u001b[0;34m,\u001b[0m \u001b[0my\u001b[0m\u001b[0;34m:\u001b[0m \u001b[0mArray\u001b[0m\u001b[0;34m)\u001b[0m \u001b[0;34m->\u001b[0m \u001b[0mArray\u001b[0m\u001b[0;34m:\u001b[0m\u001b[0;34m\u001b[0m\u001b[0;34m\u001b[0m\u001b[0m\n\u001b[1;32m    319\u001b[0m   \u001b[0;34mr\"\"\"Elementwise multiplication: :math:`x \\times y`.\"\"\"\u001b[0m\u001b[0;34m\u001b[0m\u001b[0;34m\u001b[0m\u001b[0m\n\u001b[0;32m--> 320\u001b[0;31m   \u001b[0;32mreturn\u001b[0m \u001b[0mmul_p\u001b[0m\u001b[0;34m.\u001b[0m\u001b[0mbind\u001b[0m\u001b[0;34m(\u001b[0m\u001b[0mx\u001b[0m\u001b[0;34m,\u001b[0m \u001b[0my\u001b[0m\u001b[0;34m)\u001b[0m\u001b[0;34m\u001b[0m\u001b[0;34m\u001b[0m\u001b[0m\n\u001b[0m\u001b[1;32m    321\u001b[0m \u001b[0;34m\u001b[0m\u001b[0m\n\u001b[1;32m    322\u001b[0m \u001b[0;32mdef\u001b[0m \u001b[0mdiv\u001b[0m\u001b[0;34m(\u001b[0m\u001b[0mx\u001b[0m\u001b[0;34m:\u001b[0m \u001b[0mArray\u001b[0m\u001b[0;34m,\u001b[0m \u001b[0my\u001b[0m\u001b[0;34m:\u001b[0m \u001b[0mArray\u001b[0m\u001b[0;34m)\u001b[0m \u001b[0;34m->\u001b[0m \u001b[0mArray\u001b[0m\u001b[0;34m:\u001b[0m\u001b[0;34m\u001b[0m\u001b[0;34m\u001b[0m\u001b[0m\n",
      "\u001b[0;32m~/.conda/envs/main/lib/python3.9/site-packages/jax/core.py\u001b[0m in \u001b[0;36mbind\u001b[0;34m(self, *args, **kwargs)\u001b[0m\n\u001b[1;32m    275\u001b[0m \u001b[0;34m\u001b[0m\u001b[0m\n\u001b[1;32m    276\u001b[0m     \u001b[0mtracers\u001b[0m \u001b[0;34m=\u001b[0m \u001b[0mmap\u001b[0m\u001b[0;34m(\u001b[0m\u001b[0mtop_trace\u001b[0m\u001b[0;34m.\u001b[0m\u001b[0mfull_raise\u001b[0m\u001b[0;34m,\u001b[0m \u001b[0margs\u001b[0m\u001b[0;34m)\u001b[0m\u001b[0;34m\u001b[0m\u001b[0;34m\u001b[0m\u001b[0m\n\u001b[0;32m--> 277\u001b[0;31m     \u001b[0mout_tracer\u001b[0m \u001b[0;34m=\u001b[0m \u001b[0mtop_trace\u001b[0m\u001b[0;34m.\u001b[0m\u001b[0mprocess_primitive\u001b[0m\u001b[0;34m(\u001b[0m\u001b[0mself\u001b[0m\u001b[0;34m,\u001b[0m \u001b[0mtracers\u001b[0m\u001b[0;34m,\u001b[0m \u001b[0mkwargs\u001b[0m\u001b[0;34m)\u001b[0m\u001b[0;34m\u001b[0m\u001b[0;34m\u001b[0m\u001b[0m\n\u001b[0m\u001b[1;32m    278\u001b[0m     \u001b[0;32mif\u001b[0m \u001b[0mself\u001b[0m\u001b[0;34m.\u001b[0m\u001b[0mmultiple_results\u001b[0m\u001b[0;34m:\u001b[0m\u001b[0;34m\u001b[0m\u001b[0;34m\u001b[0m\u001b[0m\n\u001b[1;32m    279\u001b[0m       \u001b[0;32mreturn\u001b[0m \u001b[0mmap\u001b[0m\u001b[0;34m(\u001b[0m\u001b[0mfull_lower\u001b[0m\u001b[0;34m,\u001b[0m \u001b[0mout_tracer\u001b[0m\u001b[0;34m)\u001b[0m\u001b[0;34m\u001b[0m\u001b[0;34m\u001b[0m\u001b[0m\n",
      "\u001b[0;32m~/.conda/envs/main/lib/python3.9/site-packages/jax/interpreters/batching.py\u001b[0m in \u001b[0;36mprocess_primitive\u001b[0;34m(self, primitive, tracers, params)\u001b[0m\n\u001b[1;32m    155\u001b[0m     \u001b[0;31m# TODO(mattjj,phawkins): if no rule implemented, could vmap-via-map here\u001b[0m\u001b[0;34m\u001b[0m\u001b[0;34m\u001b[0m\u001b[0;34m\u001b[0m\u001b[0m\n\u001b[1;32m    156\u001b[0m     \u001b[0mbatched_primitive\u001b[0m \u001b[0;34m=\u001b[0m \u001b[0mget_primitive_batcher\u001b[0m\u001b[0;34m(\u001b[0m\u001b[0mprimitive\u001b[0m\u001b[0;34m)\u001b[0m\u001b[0;34m\u001b[0m\u001b[0;34m\u001b[0m\u001b[0m\n\u001b[0;32m--> 157\u001b[0;31m     \u001b[0mval_out\u001b[0m\u001b[0;34m,\u001b[0m \u001b[0mdim_out\u001b[0m \u001b[0;34m=\u001b[0m \u001b[0mbatched_primitive\u001b[0m\u001b[0;34m(\u001b[0m\u001b[0mvals_in\u001b[0m\u001b[0;34m,\u001b[0m \u001b[0mdims_in\u001b[0m\u001b[0;34m,\u001b[0m \u001b[0;34m**\u001b[0m\u001b[0mparams\u001b[0m\u001b[0;34m)\u001b[0m\u001b[0;34m\u001b[0m\u001b[0;34m\u001b[0m\u001b[0m\n\u001b[0m\u001b[1;32m    158\u001b[0m     \u001b[0;32mif\u001b[0m \u001b[0mprimitive\u001b[0m\u001b[0;34m.\u001b[0m\u001b[0mmultiple_results\u001b[0m\u001b[0;34m:\u001b[0m\u001b[0;34m\u001b[0m\u001b[0;34m\u001b[0m\u001b[0m\n\u001b[1;32m    159\u001b[0m       \u001b[0;32mreturn\u001b[0m \u001b[0mmap\u001b[0m\u001b[0;34m(\u001b[0m\u001b[0mpartial\u001b[0m\u001b[0;34m(\u001b[0m\u001b[0mBatchTracer\u001b[0m\u001b[0;34m,\u001b[0m \u001b[0mself\u001b[0m\u001b[0;34m)\u001b[0m\u001b[0;34m,\u001b[0m \u001b[0mval_out\u001b[0m\u001b[0;34m,\u001b[0m \u001b[0mdim_out\u001b[0m\u001b[0;34m)\u001b[0m\u001b[0;34m\u001b[0m\u001b[0;34m\u001b[0m\u001b[0m\n",
      "\u001b[0;32m~/.conda/envs/main/lib/python3.9/site-packages/jax/interpreters/batching.py\u001b[0m in \u001b[0;36mbroadcast_batcher\u001b[0;34m(prim, args, dims, **params)\u001b[0m\n\u001b[1;32m    273\u001b[0m     \u001b[0mndim\u001b[0m \u001b[0;34m=\u001b[0m \u001b[0mmax\u001b[0m\u001b[0;34m(\u001b[0m\u001b[0mnp\u001b[0m\u001b[0;34m.\u001b[0m\u001b[0mndim\u001b[0m\u001b[0;34m(\u001b[0m\u001b[0mx\u001b[0m\u001b[0;34m)\u001b[0m \u001b[0;32mfor\u001b[0m \u001b[0mx\u001b[0m \u001b[0;32min\u001b[0m \u001b[0margs\u001b[0m\u001b[0;34m)\u001b[0m  \u001b[0;31m# special-case scalar broadcasting\u001b[0m\u001b[0;34m\u001b[0m\u001b[0;34m\u001b[0m\u001b[0m\n\u001b[1;32m    274\u001b[0m     \u001b[0margs\u001b[0m \u001b[0;34m=\u001b[0m \u001b[0;34m[\u001b[0m\u001b[0m_handle_scalar_broadcasting\u001b[0m\u001b[0;34m(\u001b[0m\u001b[0mndim\u001b[0m\u001b[0;34m,\u001b[0m \u001b[0mx\u001b[0m\u001b[0;34m,\u001b[0m \u001b[0md\u001b[0m\u001b[0;34m)\u001b[0m \u001b[0;32mfor\u001b[0m \u001b[0mx\u001b[0m\u001b[0;34m,\u001b[0m \u001b[0md\u001b[0m \u001b[0;32min\u001b[0m \u001b[0mzip\u001b[0m\u001b[0;34m(\u001b[0m\u001b[0margs\u001b[0m\u001b[0;34m,\u001b[0m \u001b[0mdims\u001b[0m\u001b[0;34m)\u001b[0m\u001b[0;34m]\u001b[0m\u001b[0;34m\u001b[0m\u001b[0;34m\u001b[0m\u001b[0m\n\u001b[0;32m--> 275\u001b[0;31m     \u001b[0mout\u001b[0m \u001b[0;34m=\u001b[0m \u001b[0mprim\u001b[0m\u001b[0;34m.\u001b[0m\u001b[0mbind\u001b[0m\u001b[0;34m(\u001b[0m\u001b[0;34m*\u001b[0m\u001b[0margs\u001b[0m\u001b[0;34m,\u001b[0m \u001b[0;34m**\u001b[0m\u001b[0mparams\u001b[0m\u001b[0;34m)\u001b[0m\u001b[0;34m\u001b[0m\u001b[0;34m\u001b[0m\u001b[0m\n\u001b[0m\u001b[1;32m    276\u001b[0m     \u001b[0;32mreturn\u001b[0m \u001b[0;34m(\u001b[0m\u001b[0mout\u001b[0m\u001b[0;34m,\u001b[0m \u001b[0;34m(\u001b[0m\u001b[0;36m0\u001b[0m\u001b[0;34m,\u001b[0m\u001b[0;34m)\u001b[0m \u001b[0;34m*\u001b[0m \u001b[0mlen\u001b[0m\u001b[0;34m(\u001b[0m\u001b[0mout\u001b[0m\u001b[0;34m)\u001b[0m\u001b[0;34m)\u001b[0m \u001b[0;32mif\u001b[0m \u001b[0mprim\u001b[0m\u001b[0;34m.\u001b[0m\u001b[0mmultiple_results\u001b[0m \u001b[0;32melse\u001b[0m \u001b[0;34m(\u001b[0m\u001b[0mout\u001b[0m\u001b[0;34m,\u001b[0m \u001b[0;36m0\u001b[0m\u001b[0;34m)\u001b[0m\u001b[0;34m\u001b[0m\u001b[0;34m\u001b[0m\u001b[0m\n\u001b[1;32m    277\u001b[0m \u001b[0;34m\u001b[0m\u001b[0m\n",
      "\u001b[0;32m~/.conda/envs/main/lib/python3.9/site-packages/jax/core.py\u001b[0m in \u001b[0;36mbind\u001b[0;34m(self, *args, **kwargs)\u001b[0m\n\u001b[1;32m    272\u001b[0m     \u001b[0mtop_trace\u001b[0m \u001b[0;34m=\u001b[0m \u001b[0mfind_top_trace\u001b[0m\u001b[0;34m(\u001b[0m\u001b[0margs\u001b[0m\u001b[0;34m)\u001b[0m\u001b[0;34m\u001b[0m\u001b[0;34m\u001b[0m\u001b[0m\n\u001b[1;32m    273\u001b[0m     \u001b[0;32mif\u001b[0m \u001b[0mtop_trace\u001b[0m \u001b[0;32mis\u001b[0m \u001b[0;32mNone\u001b[0m\u001b[0;34m:\u001b[0m\u001b[0;34m\u001b[0m\u001b[0;34m\u001b[0m\u001b[0m\n\u001b[0;32m--> 274\u001b[0;31m       \u001b[0;32mreturn\u001b[0m \u001b[0mself\u001b[0m\u001b[0;34m.\u001b[0m\u001b[0mimpl\u001b[0m\u001b[0;34m(\u001b[0m\u001b[0;34m*\u001b[0m\u001b[0margs\u001b[0m\u001b[0;34m,\u001b[0m \u001b[0;34m**\u001b[0m\u001b[0mkwargs\u001b[0m\u001b[0;34m)\u001b[0m\u001b[0;34m\u001b[0m\u001b[0;34m\u001b[0m\u001b[0m\n\u001b[0m\u001b[1;32m    275\u001b[0m \u001b[0;34m\u001b[0m\u001b[0m\n\u001b[1;32m    276\u001b[0m     \u001b[0mtracers\u001b[0m \u001b[0;34m=\u001b[0m \u001b[0mmap\u001b[0m\u001b[0;34m(\u001b[0m\u001b[0mtop_trace\u001b[0m\u001b[0;34m.\u001b[0m\u001b[0mfull_raise\u001b[0m\u001b[0;34m,\u001b[0m \u001b[0margs\u001b[0m\u001b[0;34m)\u001b[0m\u001b[0;34m\u001b[0m\u001b[0;34m\u001b[0m\u001b[0m\n",
      "\u001b[0;32m~/.conda/envs/main/lib/python3.9/site-packages/jax/interpreters/xla.py\u001b[0m in \u001b[0;36mapply_primitive\u001b[0;34m(prim, *args, **params)\u001b[0m\n\u001b[1;32m    223\u001b[0m   \u001b[0;34m\"\"\"Impl rule that compiles and runs a single primitive 'prim' using XLA.\"\"\"\u001b[0m\u001b[0;34m\u001b[0m\u001b[0;34m\u001b[0m\u001b[0m\n\u001b[1;32m    224\u001b[0m   \u001b[0mcompiled_fun\u001b[0m \u001b[0;34m=\u001b[0m \u001b[0mxla_primitive_callable\u001b[0m\u001b[0;34m(\u001b[0m\u001b[0mprim\u001b[0m\u001b[0;34m,\u001b[0m \u001b[0;34m*\u001b[0m\u001b[0munsafe_map\u001b[0m\u001b[0;34m(\u001b[0m\u001b[0marg_spec\u001b[0m\u001b[0;34m,\u001b[0m \u001b[0margs\u001b[0m\u001b[0;34m)\u001b[0m\u001b[0;34m,\u001b[0m \u001b[0;34m**\u001b[0m\u001b[0mparams\u001b[0m\u001b[0;34m)\u001b[0m\u001b[0;34m\u001b[0m\u001b[0;34m\u001b[0m\u001b[0m\n\u001b[0;32m--> 225\u001b[0;31m   \u001b[0;32mreturn\u001b[0m \u001b[0mcompiled_fun\u001b[0m\u001b[0;34m(\u001b[0m\u001b[0;34m*\u001b[0m\u001b[0margs\u001b[0m\u001b[0;34m)\u001b[0m\u001b[0;34m\u001b[0m\u001b[0;34m\u001b[0m\u001b[0m\n\u001b[0m\u001b[1;32m    226\u001b[0m \u001b[0;34m\u001b[0m\u001b[0m\n\u001b[1;32m    227\u001b[0m \u001b[0;34m@\u001b[0m\u001b[0mcache\u001b[0m\u001b[0;34m(\u001b[0m\u001b[0;34m)\u001b[0m\u001b[0;34m\u001b[0m\u001b[0;34m\u001b[0m\u001b[0m\n",
      "\u001b[0;32m~/.conda/envs/main/lib/python3.9/site-packages/jax/interpreters/xla.py\u001b[0m in \u001b[0;36m_execute_compiled_primitive\u001b[0;34m(prim, compiled, result_handler, *args)\u001b[0m\n\u001b[1;32m    327\u001b[0m \u001b[0;32mdef\u001b[0m \u001b[0m_execute_compiled_primitive\u001b[0m\u001b[0;34m(\u001b[0m\u001b[0mprim\u001b[0m\u001b[0;34m,\u001b[0m \u001b[0mcompiled\u001b[0m\u001b[0;34m,\u001b[0m \u001b[0mresult_handler\u001b[0m\u001b[0;34m,\u001b[0m \u001b[0;34m*\u001b[0m\u001b[0margs\u001b[0m\u001b[0;34m)\u001b[0m\u001b[0;34m:\u001b[0m\u001b[0;34m\u001b[0m\u001b[0;34m\u001b[0m\u001b[0m\n\u001b[1;32m    328\u001b[0m   \u001b[0mdevice\u001b[0m\u001b[0;34m,\u001b[0m \u001b[0;34m=\u001b[0m \u001b[0mcompiled\u001b[0m\u001b[0;34m.\u001b[0m\u001b[0mlocal_devices\u001b[0m\u001b[0;34m(\u001b[0m\u001b[0;34m)\u001b[0m\u001b[0;34m\u001b[0m\u001b[0;34m\u001b[0m\u001b[0m\n\u001b[0;32m--> 329\u001b[0;31m   \u001b[0minput_bufs\u001b[0m \u001b[0;34m=\u001b[0m \u001b[0;34m[\u001b[0m\u001b[0mdevice_put\u001b[0m\u001b[0;34m(\u001b[0m\u001b[0mx\u001b[0m\u001b[0;34m,\u001b[0m \u001b[0mdevice\u001b[0m\u001b[0;34m)\u001b[0m \u001b[0;32mfor\u001b[0m \u001b[0mx\u001b[0m \u001b[0;32min\u001b[0m \u001b[0margs\u001b[0m \u001b[0;32mif\u001b[0m \u001b[0mx\u001b[0m \u001b[0;32mis\u001b[0m \u001b[0;32mnot\u001b[0m \u001b[0mtoken\u001b[0m\u001b[0;34m]\u001b[0m\u001b[0;34m\u001b[0m\u001b[0;34m\u001b[0m\u001b[0m\n\u001b[0m\u001b[1;32m    330\u001b[0m   \u001b[0mout_bufs\u001b[0m \u001b[0;34m=\u001b[0m \u001b[0mcompiled\u001b[0m\u001b[0;34m.\u001b[0m\u001b[0mexecute\u001b[0m\u001b[0;34m(\u001b[0m\u001b[0minput_bufs\u001b[0m\u001b[0;34m)\u001b[0m\u001b[0;34m\u001b[0m\u001b[0;34m\u001b[0m\u001b[0m\n\u001b[1;32m    331\u001b[0m   \u001b[0;32mif\u001b[0m \u001b[0mFLAGS\u001b[0m\u001b[0;34m.\u001b[0m\u001b[0mjax_debug_nans\u001b[0m\u001b[0;34m:\u001b[0m\u001b[0;34m\u001b[0m\u001b[0;34m\u001b[0m\u001b[0m\n",
      "\u001b[0;32m~/.conda/envs/main/lib/python3.9/site-packages/jax/interpreters/xla.py\u001b[0m in \u001b[0;36m<listcomp>\u001b[0;34m(.0)\u001b[0m\n\u001b[1;32m    327\u001b[0m \u001b[0;32mdef\u001b[0m \u001b[0m_execute_compiled_primitive\u001b[0m\u001b[0;34m(\u001b[0m\u001b[0mprim\u001b[0m\u001b[0;34m,\u001b[0m \u001b[0mcompiled\u001b[0m\u001b[0;34m,\u001b[0m \u001b[0mresult_handler\u001b[0m\u001b[0;34m,\u001b[0m \u001b[0;34m*\u001b[0m\u001b[0margs\u001b[0m\u001b[0;34m)\u001b[0m\u001b[0;34m:\u001b[0m\u001b[0;34m\u001b[0m\u001b[0;34m\u001b[0m\u001b[0m\n\u001b[1;32m    328\u001b[0m   \u001b[0mdevice\u001b[0m\u001b[0;34m,\u001b[0m \u001b[0;34m=\u001b[0m \u001b[0mcompiled\u001b[0m\u001b[0;34m.\u001b[0m\u001b[0mlocal_devices\u001b[0m\u001b[0;34m(\u001b[0m\u001b[0;34m)\u001b[0m\u001b[0;34m\u001b[0m\u001b[0;34m\u001b[0m\u001b[0m\n\u001b[0;32m--> 329\u001b[0;31m   \u001b[0minput_bufs\u001b[0m \u001b[0;34m=\u001b[0m \u001b[0;34m[\u001b[0m\u001b[0mdevice_put\u001b[0m\u001b[0;34m(\u001b[0m\u001b[0mx\u001b[0m\u001b[0;34m,\u001b[0m \u001b[0mdevice\u001b[0m\u001b[0;34m)\u001b[0m \u001b[0;32mfor\u001b[0m \u001b[0mx\u001b[0m \u001b[0;32min\u001b[0m \u001b[0margs\u001b[0m \u001b[0;32mif\u001b[0m \u001b[0mx\u001b[0m \u001b[0;32mis\u001b[0m \u001b[0;32mnot\u001b[0m \u001b[0mtoken\u001b[0m\u001b[0;34m]\u001b[0m\u001b[0;34m\u001b[0m\u001b[0;34m\u001b[0m\u001b[0m\n\u001b[0m\u001b[1;32m    330\u001b[0m   \u001b[0mout_bufs\u001b[0m \u001b[0;34m=\u001b[0m \u001b[0mcompiled\u001b[0m\u001b[0;34m.\u001b[0m\u001b[0mexecute\u001b[0m\u001b[0;34m(\u001b[0m\u001b[0minput_bufs\u001b[0m\u001b[0;34m)\u001b[0m\u001b[0;34m\u001b[0m\u001b[0;34m\u001b[0m\u001b[0m\n\u001b[1;32m    331\u001b[0m   \u001b[0;32mif\u001b[0m \u001b[0mFLAGS\u001b[0m\u001b[0;34m.\u001b[0m\u001b[0mjax_debug_nans\u001b[0m\u001b[0;34m:\u001b[0m\u001b[0;34m\u001b[0m\u001b[0;34m\u001b[0m\u001b[0m\n",
      "\u001b[0;32m~/.conda/envs/main/lib/python3.9/site-packages/jax/interpreters/xla.py\u001b[0m in \u001b[0;36mdevice_put\u001b[0;34m(x, device)\u001b[0m\n\u001b[1;32m    118\u001b[0m   \u001b[0mx\u001b[0m \u001b[0;34m=\u001b[0m \u001b[0mcanonicalize_dtype\u001b[0m\u001b[0;34m(\u001b[0m\u001b[0mx\u001b[0m\u001b[0;34m)\u001b[0m\u001b[0;34m\u001b[0m\u001b[0;34m\u001b[0m\u001b[0m\n\u001b[1;32m    119\u001b[0m   \u001b[0;32mtry\u001b[0m\u001b[0;34m:\u001b[0m\u001b[0;34m\u001b[0m\u001b[0;34m\u001b[0m\u001b[0m\n\u001b[0;32m--> 120\u001b[0;31m     \u001b[0;32mreturn\u001b[0m \u001b[0mdevice_put_handlers\u001b[0m\u001b[0;34m[\u001b[0m\u001b[0mtype\u001b[0m\u001b[0;34m(\u001b[0m\u001b[0mx\u001b[0m\u001b[0;34m)\u001b[0m\u001b[0;34m]\u001b[0m\u001b[0;34m(\u001b[0m\u001b[0mx\u001b[0m\u001b[0;34m,\u001b[0m \u001b[0mdevice\u001b[0m\u001b[0;34m)\u001b[0m\u001b[0;34m\u001b[0m\u001b[0;34m\u001b[0m\u001b[0m\n\u001b[0m\u001b[1;32m    121\u001b[0m   \u001b[0;32mexcept\u001b[0m \u001b[0mKeyError\u001b[0m \u001b[0;32mas\u001b[0m \u001b[0merr\u001b[0m\u001b[0;34m:\u001b[0m\u001b[0;34m\u001b[0m\u001b[0;34m\u001b[0m\u001b[0m\n\u001b[1;32m    122\u001b[0m     \u001b[0;32mraise\u001b[0m \u001b[0mTypeError\u001b[0m\u001b[0;34m(\u001b[0m\u001b[0;34mf\"No device_put handler for type: {type(x)}\"\u001b[0m\u001b[0;34m)\u001b[0m \u001b[0;32mfrom\u001b[0m \u001b[0merr\u001b[0m\u001b[0;34m\u001b[0m\u001b[0;34m\u001b[0m\u001b[0m\n",
      "\u001b[0;32m~/.conda/envs/main/lib/python3.9/site-packages/jax/interpreters/xla.py\u001b[0m in \u001b[0;36m_device_put_device_array\u001b[0;34m(x, device)\u001b[0m\n\u001b[1;32m   1134\u001b[0m \u001b[0;32mdef\u001b[0m \u001b[0m_device_put_device_array\u001b[0m\u001b[0;34m(\u001b[0m\u001b[0mx\u001b[0m\u001b[0;34m:\u001b[0m \u001b[0mDeviceArray\u001b[0m\u001b[0;34m,\u001b[0m \u001b[0mdevice\u001b[0m\u001b[0;34m:\u001b[0m \u001b[0mOptional\u001b[0m\u001b[0;34m[\u001b[0m\u001b[0mDevice\u001b[0m\u001b[0;34m]\u001b[0m\u001b[0;34m)\u001b[0m\u001b[0;34m:\u001b[0m\u001b[0;34m\u001b[0m\u001b[0;34m\u001b[0m\u001b[0m\n\u001b[1;32m   1135\u001b[0m   \u001b[0mx\u001b[0m \u001b[0;34m=\u001b[0m \u001b[0m_copy_device_array_to_device\u001b[0m\u001b[0;34m(\u001b[0m\u001b[0mx\u001b[0m\u001b[0;34m,\u001b[0m \u001b[0mdevice\u001b[0m\u001b[0;34m)\u001b[0m\u001b[0;34m\u001b[0m\u001b[0;34m\u001b[0m\u001b[0m\n\u001b[0;32m-> 1136\u001b[0;31m   \u001b[0;32mreturn\u001b[0m \u001b[0m_force\u001b[0m\u001b[0;34m(\u001b[0m\u001b[0mx\u001b[0m\u001b[0;34m)\u001b[0m\u001b[0;34m.\u001b[0m\u001b[0mdevice_buffer\u001b[0m\u001b[0;34m\u001b[0m\u001b[0;34m\u001b[0m\u001b[0m\n\u001b[0m\u001b[1;32m   1137\u001b[0m \u001b[0mdevice_put_handlers\u001b[0m\u001b[0;34m[\u001b[0m\u001b[0mDeviceArray\u001b[0m\u001b[0;34m]\u001b[0m \u001b[0;34m=\u001b[0m \u001b[0m_device_put_device_array\u001b[0m\u001b[0;34m\u001b[0m\u001b[0;34m\u001b[0m\u001b[0m\n\u001b[1;32m   1138\u001b[0m \u001b[0;34m\u001b[0m\u001b[0m\n",
      "\u001b[0;32m~/.conda/envs/main/lib/python3.9/site-packages/jax/interpreters/xla.py\u001b[0m in \u001b[0;36m_force\u001b[0;34m(x)\u001b[0m\n\u001b[1;32m   1170\u001b[0m     \u001b[0;32melse\u001b[0m\u001b[0;34m:\u001b[0m\u001b[0;34m\u001b[0m\u001b[0;34m\u001b[0m\u001b[0m\n\u001b[1;32m   1171\u001b[0m       \u001b[0mdevice\u001b[0m \u001b[0;34m=\u001b[0m \u001b[0mx\u001b[0m\u001b[0;34m.\u001b[0m\u001b[0mdevice_buffer\u001b[0m\u001b[0;34m.\u001b[0m\u001b[0mdevice\u001b[0m\u001b[0;34m(\u001b[0m\u001b[0;34m)\u001b[0m\u001b[0;34m\u001b[0m\u001b[0;34m\u001b[0m\u001b[0m\n\u001b[0;32m-> 1172\u001b[0;31m     \u001b[0mforce_fun\u001b[0m \u001b[0;34m=\u001b[0m \u001b[0m_lazy_force_computation\u001b[0m\u001b[0;34m(\u001b[0m\u001b[0mx\u001b[0m\u001b[0;34m.\u001b[0m\u001b[0maval\u001b[0m\u001b[0;34m,\u001b[0m \u001b[0mdevice\u001b[0m\u001b[0;34m,\u001b[0m \u001b[0mx\u001b[0m\u001b[0;34m.\u001b[0m\u001b[0m_lazy_expr\u001b[0m\u001b[0;34m)\u001b[0m\u001b[0;34m\u001b[0m\u001b[0;34m\u001b[0m\u001b[0m\n\u001b[0m\u001b[1;32m   1173\u001b[0m     \u001b[0mresult\u001b[0m \u001b[0;34m=\u001b[0m \u001b[0mforce_fun\u001b[0m\u001b[0;34m(\u001b[0m\u001b[0mx\u001b[0m\u001b[0;34m)\u001b[0m\u001b[0;34m\u001b[0m\u001b[0;34m\u001b[0m\u001b[0m\n\u001b[1;32m   1174\u001b[0m     \u001b[0;32mreturn\u001b[0m \u001b[0mDeviceArray\u001b[0m\u001b[0;34m(\u001b[0m\u001b[0mx\u001b[0m\u001b[0;34m.\u001b[0m\u001b[0maval\u001b[0m\u001b[0;34m,\u001b[0m \u001b[0mx\u001b[0m\u001b[0;34m.\u001b[0m\u001b[0m_device\u001b[0m\u001b[0;34m,\u001b[0m \u001b[0mlazy\u001b[0m\u001b[0;34m.\u001b[0m\u001b[0marray\u001b[0m\u001b[0;34m(\u001b[0m\u001b[0mx\u001b[0m\u001b[0;34m.\u001b[0m\u001b[0maval\u001b[0m\u001b[0;34m.\u001b[0m\u001b[0mshape\u001b[0m\u001b[0;34m)\u001b[0m\u001b[0;34m,\u001b[0m \u001b[0mresult\u001b[0m\u001b[0;34m)\u001b[0m\u001b[0;34m\u001b[0m\u001b[0;34m\u001b[0m\u001b[0m\n",
      "\u001b[0;32m~/.conda/envs/main/lib/python3.9/site-packages/jax/interpreters/xla.py\u001b[0m in \u001b[0;36m_lazy_force_computation\u001b[0;34m(aval, device, lexpr)\u001b[0m\n\u001b[1;32m   1195\u001b[0m       \u001b[0mnum_partitions\u001b[0m\u001b[0;34m=\u001b[0m\u001b[0;36m1\u001b[0m\u001b[0;34m,\u001b[0m\u001b[0;34m\u001b[0m\u001b[0;34m\u001b[0m\u001b[0m\n\u001b[1;32m   1196\u001b[0m       device_assignment=device and (device.id,))\n\u001b[0;32m-> 1197\u001b[0;31m   \u001b[0mcompiled\u001b[0m \u001b[0;34m=\u001b[0m \u001b[0mbackend_compile\u001b[0m\u001b[0;34m(\u001b[0m\u001b[0mxb\u001b[0m\u001b[0;34m.\u001b[0m\u001b[0mget_device_backend\u001b[0m\u001b[0;34m(\u001b[0m\u001b[0mdevice\u001b[0m\u001b[0;34m)\u001b[0m\u001b[0;34m,\u001b[0m \u001b[0mbuilt_c\u001b[0m\u001b[0;34m,\u001b[0m \u001b[0moptions\u001b[0m\u001b[0;34m)\u001b[0m\u001b[0;34m\u001b[0m\u001b[0;34m\u001b[0m\u001b[0m\n\u001b[0m\u001b[1;32m   1198\u001b[0m \u001b[0;34m\u001b[0m\u001b[0m\n\u001b[1;32m   1199\u001b[0m   \u001b[0mforce_fun\u001b[0m\u001b[0;34m:\u001b[0m \u001b[0mCallable\u001b[0m\u001b[0;34m[\u001b[0m\u001b[0;34m[\u001b[0m\u001b[0mDeviceArray\u001b[0m\u001b[0;34m]\u001b[0m\u001b[0;34m,\u001b[0m \u001b[0mDeviceArray\u001b[0m\u001b[0;34m]\u001b[0m\u001b[0;34m\u001b[0m\u001b[0;34m\u001b[0m\u001b[0m\n",
      "\u001b[0;32m~/.conda/envs/main/lib/python3.9/site-packages/jax/interpreters/xla.py\u001b[0m in \u001b[0;36mbackend_compile\u001b[0;34m(backend, built_c, options)\u001b[0m\n\u001b[1;32m    323\u001b[0m   \u001b[0;31m# we use a separate function call to ensure that XLA compilation appears\u001b[0m\u001b[0;34m\u001b[0m\u001b[0;34m\u001b[0m\u001b[0;34m\u001b[0m\u001b[0m\n\u001b[1;32m    324\u001b[0m   \u001b[0;31m# separately in Python profiling results\u001b[0m\u001b[0;34m\u001b[0m\u001b[0;34m\u001b[0m\u001b[0;34m\u001b[0m\u001b[0m\n\u001b[0;32m--> 325\u001b[0;31m   \u001b[0;32mreturn\u001b[0m \u001b[0mbackend\u001b[0m\u001b[0;34m.\u001b[0m\u001b[0mcompile\u001b[0m\u001b[0;34m(\u001b[0m\u001b[0mbuilt_c\u001b[0m\u001b[0;34m,\u001b[0m \u001b[0mcompile_options\u001b[0m\u001b[0;34m=\u001b[0m\u001b[0moptions\u001b[0m\u001b[0;34m)\u001b[0m\u001b[0;34m\u001b[0m\u001b[0;34m\u001b[0m\u001b[0m\n\u001b[0m\u001b[1;32m    326\u001b[0m \u001b[0;34m\u001b[0m\u001b[0m\n\u001b[1;32m    327\u001b[0m \u001b[0;32mdef\u001b[0m \u001b[0m_execute_compiled_primitive\u001b[0m\u001b[0;34m(\u001b[0m\u001b[0mprim\u001b[0m\u001b[0;34m,\u001b[0m \u001b[0mcompiled\u001b[0m\u001b[0;34m,\u001b[0m \u001b[0mresult_handler\u001b[0m\u001b[0;34m,\u001b[0m \u001b[0;34m*\u001b[0m\u001b[0margs\u001b[0m\u001b[0;34m)\u001b[0m\u001b[0;34m:\u001b[0m\u001b[0;34m\u001b[0m\u001b[0;34m\u001b[0m\u001b[0m\n",
      "\u001b[0;31mKeyboardInterrupt\u001b[0m: "
     ]
    }
   ],
   "source": [
    "pscales = onp.linspace(0.155999, 0.156001,21)\n",
    "new_pscales = onp.linspace(0.1559997, 0.1560003, 7)+0.00000005\n",
    "newest_pscales = [0.15600003, 0.15600001,  0.15599997, 0.15599999]\n",
    "print(new_pscales)\n",
    "\n",
    "for p in tqdm(newest_pscales):\n",
    "    print('{:.8f}'.format(p))\n",
    "    pscale = p\n",
    "    osys = generate_opsys(jnp.zeros((20)))\n",
    "    image = get_bb_psf(0,0,osys, wavs, weights_A)\n",
    "    onp.save('Pscale50wavs/{:.8f}'.format(p), image)"
   ]
  },
  {
   "cell_type": "code",
   "execution_count": 37,
   "id": "6bbde8bf-0609-41a3-8c8c-f620f817623d",
   "metadata": {
    "tags": []
   },
   "outputs": [
    {
     "name": "stdout",
     "output_type": "stream",
     "text": [
      "\n",
      " Flux: 1.08e+11\n"
     ]
    },
    {
     "data": {
      "application/vnd.jupyter.widget-view+json": {
       "model_id": "8483227bfc9d4cea9be5f64b2e33b84b",
       "version_major": 2,
       "version_minor": 0
      },
      "text/plain": [
       "  0%|          | 0/100 [00:00<?, ?it/s]"
      ]
     },
     "metadata": {},
     "output_type": "display_data"
    },
    {
     "name": "stdout",
     "output_type": "stream",
     "text": [
      "4\n",
      "96\n",
      "100\n",
      "\n",
      " Flux: 3.24e+12\n"
     ]
    },
    {
     "data": {
      "application/vnd.jupyter.widget-view+json": {
       "model_id": "41b1ffdf9c7d4b57a3f3f8dd73349ce2",
       "version_major": 2,
       "version_minor": 0
      },
      "text/plain": [
       "  0%|          | 0/100 [00:00<?, ?it/s]"
      ]
     },
     "metadata": {},
     "output_type": "display_data"
    },
    {
     "name": "stdout",
     "output_type": "stream",
     "text": [
      "1\n",
      "100\n",
      "100\n",
      "\n",
      " Flux: 6.48e+12\n"
     ]
    },
    {
     "data": {
      "application/vnd.jupyter.widget-view+json": {
       "model_id": "0117b41b07c649d58f2f572e28f35515",
       "version_major": 2,
       "version_minor": 0
      },
      "text/plain": [
       "  0%|          | 0/100 [00:00<?, ?it/s]"
      ]
     },
     "metadata": {},
     "output_type": "display_data"
    },
    {
     "name": "stdout",
     "output_type": "stream",
     "text": [
      "1\n",
      "100\n",
      "100\n"
     ]
    }
   ],
   "source": [
    "pscales = onp.linspace(0.155999, 0.156001,21)\n",
    "new_pscales = onp.linspace(0.1559997, 0.1560003, 7)+0.00000005\n",
    "newest_pscales = [0.15600003, 0.15600001,  0.15599997, 0.15599999]\n",
    "\n",
    "all_pscales = onp.sort(onp.append(pscales, new_pscales))\n",
    "all_pscales = onp.sort(onp.append(all_pscales, newest_pscales))\n",
    "\n",
    "correct_im = onp.load('Pscale50wavs/0.15600000.npy')\n",
    "\n",
    "min_pscales = []\n",
    "min30_pscales = []\n",
    "hour_pscales = []\n",
    "\n",
    "fluxes = [1.8e9*60, 1.8e9*60*30, 1.8e9*60*60]\n",
    "for j in range(3):\n",
    "    flux = fluxes[j]\n",
    "    print('\\n Flux: {:.2e}'.format(fluxes[j]))\n",
    "    correct = 0\n",
    "    within1 = 0\n",
    "    within2 = 0\n",
    "    for i in tqdm(range(100)):\n",
    "        noisy_im = make_noisy(correct_im, flux)\n",
    "\n",
    "        lowest = 100\n",
    "        low_p = 100\n",
    "        for p in all_pscales:\n",
    "            comp_im = onp.load('Pscale50wavs/{:.8f}.npy'.format(p))\n",
    "            sae = onp.sum(onp.abs(noisy_im - comp_im))\n",
    "            if sae < lowest:\n",
    "                lowest = sae\n",
    "                low_p = p \n",
    "        if j ==0:\n",
    "            min_pscales = onp.append(min_pscales, low_p)\n",
    "        if j ==1:\n",
    "            min30_pscales = onp.append(min30_pscales, low_p)    \n",
    "        if j ==2:\n",
    "            hour_pscales = onp.append(hour_pscales, low_p)\n",
    "            \n",
    "        if low_p >= 0.1559998 and low_p <= 0.1560002:\n",
    "            within2 +=1\n",
    "            if low_p >= 0.1559999 and low_p <= 0.1560001:\n",
    "                within1 +=1\n",
    "                if low_p == 0.156:\n",
    "                    correct +=1\n",
    "\n",
    "    print(correct)\n",
    "    print(within1)\n",
    "    print(within2)"
   ]
  },
  {
   "cell_type": "code",
   "execution_count": 39,
   "id": "1b8aad63-996c-4bc1-b018-97ffd0ac5122",
   "metadata": {},
   "outputs": [
    {
     "name": "stdout",
     "output_type": "stream",
     "text": [
      "\n",
      " Minute\n",
      "Mean: 2.9700000014898364e-08\n",
      "STD: 5.532549141536283e-08\n",
      "\n",
      " 30 Minute\n",
      "Mean: -3.509999998985158e-08\n",
      "STD: 1.1789402018625364e-08\n",
      "\n",
      " Hour\n",
      "Mean: -3.769999998293194e-08\n",
      "STD: 1.1563304022912283e-08\n",
      "32\n",
      "[0.155999   0.1559991  0.1559992  0.1559993  0.1559994  0.1559995\n",
      " 0.1559996  0.1559997  0.15599975 0.1559998  0.15599985 0.1559999\n",
      " 0.15599995 0.15599997 0.15599999 0.156      0.15600001 0.15600003\n",
      " 0.15600005 0.1560001  0.15600015 0.1560002  0.15600025 0.1560003\n",
      " 0.15600035 0.1560004  0.1560005  0.1560006  0.1560007  0.1560008\n",
      " 0.1560009  0.156001  ]\n",
      "1.9038461551712516e-07\n",
      "2.9700000014898364e-08\n"
     ]
    },
    {
     "data": {
      "image/png": "[encoded data removed]",
      "text/plain": [
       "<Figure size 720x576 with 1 Axes>"
      ]
     },
     "metadata": {
      "needs_background": "light"
     },
     "output_type": "display_data"
    }
   ],
   "source": [
    "ones = onp.ones(100)\n",
    "plt.figure(figsize = (10,8))\n",
    "plt.scatter(ones, min_pscales - 0.156, marker = 'x', alpha = 0.25)\n",
    "plt.scatter(ones*30, min30_pscales - 0.156, marker = 'x', alpha =  0.25)\n",
    "plt.scatter(ones*60, hour_pscales - 0.156, marker = 'x', alpha = 0.25)\n",
    "plt.hlines(0, 1,60, ls = '--', color = 'grey', label = 'True Pscale')\n",
    "plt.hlines(onp.mean(hour_pscales)-0.156, 1,60, ls = '-.', color = 'grey', label = 'Mean of 1hr exposure Pscale estimate')\n",
    "plt.legend()\n",
    "\n",
    "plt.xlabel('Exposure Time (min)', fontsize = 16)\n",
    "plt.ylabel('Plate Scale Error (as/pix)', fontsize = 16)\n",
    "plt.title('Plate Scale Estimation Error for Varying Exposure Times \\n', fontsize = 20)\n",
    "plt.xticks(fontsize = 13)\n",
    "plt.yticks(fontsize = 13)\n",
    "\n",
    "print('\\n Minute')\n",
    "print('Mean: {}'.format(0.156 - onp.mean(min_pscales)))\n",
    "print('STD: {}'.format(onp.std(min_pscales)))\n",
    "\n",
    "print('\\n 30 Minute')\n",
    "print('Mean: {}'.format(0.156 - onp.mean(min30_pscales)))\n",
    "print('STD: {}'.format(onp.std(min30_pscales)))\n",
    "\n",
    "print('\\n Hour')\n",
    "print('Mean: {}'.format(0.156 - onp.mean(hour_pscales)))\n",
    "print('STD: {}'.format(onp.std(hour_pscales)))\n",
    "\n",
    "\n",
    "\n",
    "print(len(all_pscales))\n",
    "print(all_pscales)\n",
    "\n",
    "print(-onp.mean(min_pscales)/0.156 + 1)\n",
    "print(-onp.mean(min_pscales) + 0.156)"
   ]
  },
  {
   "cell_type": "code",
   "execution_count": 158,
   "id": "072fc3ab-89c9-4cea-9f27-e3ce9b424f91",
   "metadata": {},
   "outputs": [
    {
     "name": "stdout",
     "output_type": "stream",
     "text": [
      "12.820512820512821\n",
      "12.820509796187434\n",
      "12.82051654339359\n",
      "2.3589738018525708e-05\n",
      "6.837072175081005e-06\n",
      "-2.9038469984143944e-05\n",
      "4.4894250772475885e-05\n"
     ]
    }
   ],
   "source": [
    "true_sig = 1\n",
    "\n",
    "amp1 = true_sig*2/(0.156) \n",
    "amp2 = true_sig*2/(0.1560000368)\n",
    "amp3 = true_sig*2/(0.156+1.0665833297256921e-08)\n",
    "amp4 = true_sig*2/(0.15599995469999997)\n",
    "amp5 = true_sig*2/(0.156+7.003506264943969e-08)\n",
    "\n",
    "print(amp1)\n",
    "print(amp2)\n",
    "print(amp4)\n",
    "print((1-amp2/amp1)*100) # will underestimate the uncertainty by 2.34e-5 % if overetimation of plate scale is not corrected\n",
    "print((1-amp3/amp1)*100) # the std of error from uncertainty in the pscale is 6.84e-6 % ??\n",
    "print((1-amp4/amp1)*100) # will underestimate the uncertainty by 2.34e-5 % if overetimation of plate scale is not corrected\n",
    "print((1-amp5/amp1)*100) # the std of error from uncertainty in the pscale is 6.84e-6 % ??"
   ]
  },
  {
   "cell_type": "code",
   "execution_count": 20,
   "id": "3f98cced-fcce-467c-8a57-817daa359007",
   "metadata": {},
   "outputs": [],
   "source": [
    "def create_images(magnitude, path):\n",
    "    '''\n",
    "    magnitude is in nm\n",
    "    Applies uniform amount of each zernike mode to the image\n",
    "    '''\n",
    "    zernikes = onp.zeros(20)\n",
    "    for i in range(20):\n",
    "        zernikes[i] = magnitude*1e-9 / norm_factors[i]\n",
    "\n",
    "    zernike_coefficients = zernikes\n",
    "    optical_system = generate_opsys(zernikes)\n",
    "    print('Creating 101 images with {}nm of aberration.'.format(magnitude))\n",
    "\n",
    "    for j in tqdm(range(101)):\n",
    "        image = get_double_bb_psf(6+planet_signal[j] ,90, optical_system, wavels = wavs,weights1 =  weights_A, weights2 = weights_B)\n",
    "\n",
    "        image_HDU = fits.ImageHDU(image)\n",
    "        hdr = fits.Header()\n",
    "\n",
    "        hdr['Signal']  = onp.float64(planet_signal[j])\n",
    "        hdr['JitterX'] = 0\n",
    "        hdr['JitterY'] = 0\n",
    "        hdr['Roll']    = 0\n",
    "        for k in range(20):\n",
    "            hdr['zern_{}'.format(k)] = zernike_coefficients[k]\n",
    "\n",
    "        head = fits.PrimaryHDU(header = hdr)\n",
    "        hdu = fits.HDUList([head, image_HDU])\n",
    "\n",
    "        name = 'Epoch{}.fits'.format(j)\n",
    "\n",
    "        hdu.writeto(path+name)\n",
    "        "
   ]
  },
  {
   "cell_type": "code",
   "execution_count": 19,
   "id": "2976aa6c-8e1d-45c0-86eb-cfed2d44f9d4",
   "metadata": {},
   "outputs": [],
   "source": [
    "def calculate_fit(overshot, image_path, save_path, magnitude):\n",
    "    flux = 1.8e9 * 60 * 60\n",
    "    \n",
    "    for k in tqdm(range(len(overshot))):\n",
    "        print('Fitting overshot: ' + str(overshot[k]))\n",
    "        recovered_signal = []\n",
    "        for i in tqdm(range(100)):\n",
    "            full_path = image_path + 'Epoch{}.fits'.format(i)\n",
    "            data = fits.open(full_path)\n",
    "            image = data[1].data\n",
    "            hdr = data[0].header\n",
    "\n",
    "            ls = []\n",
    "            for j in range(20):\n",
    "                ls = onp.append(ls, hdr['zern_{}'.format(j)]*(overshot[k]))\n",
    "            x0 = hdr['signal']\n",
    "            input_image = make_noisy2(image, flux)\n",
    "            fit =  scipy.optimize.minimize(objective2, x0,method='bfgs', args=(input_image, ls), jac = gradient2, options={'gtol': 1e-08})\n",
    "            seperation_estimate = fit.x[0]\n",
    "\n",
    "            recovered_signal = onp.append(recovered_signal, seperation_estimate)\n",
    "\n",
    "        name = '{}nm-overshot{}'.format(magnitude, str(overshot[k]))\n",
    "        onp.save(save_path+name, recovered_signal)"
   ]
  },
  {
   "cell_type": "code",
   "execution_count": null,
   "id": "bfcc2068-efae-4227-a19e-520cf4e6a436",
   "metadata": {
    "tags": []
   },
   "outputs": [
    {
     "name": "stdout",
     "output_type": "stream",
     "text": [
      "[0.   0.75 0.9  0.95 1.   1.05 1.1  1.25 2.  ]\n"
     ]
    },
    {
     "data": {
      "application/vnd.jupyter.widget-view+json": {
       "model_id": "fd9e593199674c1788aea416bcf4892c",
       "version_major": 2,
       "version_minor": 0
      },
      "text/plain": [
       "  0%|          | 0/9 [00:00<?, ?it/s]"
      ]
     },
     "metadata": {},
     "output_type": "display_data"
    },
    {
     "name": "stdout",
     "output_type": "stream",
     "text": [
      "Fitting overshot: 0.0\n"
     ]
    },
    {
     "data": {
      "application/vnd.jupyter.widget-view+json": {
       "model_id": "f420191c3c75437e88dd74e1db7f6a1d",
       "version_major": 2,
       "version_minor": 0
      },
      "text/plain": [
       "  0%|          | 0/100 [00:00<?, ?it/s]"
      ]
     },
     "metadata": {},
     "output_type": "display_data"
    },
    {
     "name": "stdout",
     "output_type": "stream",
     "text": [
      "Fitting overshot: 0.75\n"
     ]
    },
    {
     "data": {
      "application/vnd.jupyter.widget-view+json": {
       "model_id": "00580728d0ef424e8a9ea5e774d271b6",
       "version_major": 2,
       "version_minor": 0
      },
      "text/plain": [
       "  0%|          | 0/100 [00:00<?, ?it/s]"
      ]
     },
     "metadata": {},
     "output_type": "display_data"
    },
    {
     "name": "stdout",
     "output_type": "stream",
     "text": [
      "Fitting overshot: 0.9\n"
     ]
    },
    {
     "data": {
      "application/vnd.jupyter.widget-view+json": {
       "model_id": "3cec45592e8946ce99540ad7eb9948eb",
       "version_major": 2,
       "version_minor": 0
      },
      "text/plain": [
       "  0%|          | 0/100 [00:00<?, ?it/s]"
      ]
     },
     "metadata": {},
     "output_type": "display_data"
    },
    {
     "name": "stdout",
     "output_type": "stream",
     "text": [
      "Fitting overshot: 0.95\n"
     ]
    },
    {
     "data": {
      "application/vnd.jupyter.widget-view+json": {
       "model_id": "c99e96b0e89c4cf39a3165b2d69b2dd8",
       "version_major": 2,
       "version_minor": 0
      },
      "text/plain": [
       "  0%|          | 0/100 [00:00<?, ?it/s]"
      ]
     },
     "metadata": {},
     "output_type": "display_data"
    },
    {
     "name": "stdout",
     "output_type": "stream",
     "text": [
      "Fitting overshot: 1.0\n"
     ]
    },
    {
     "data": {
      "application/vnd.jupyter.widget-view+json": {
       "model_id": "3bc6e12f087c4db4a91a7e2865f3bf46",
       "version_major": 2,
       "version_minor": 0
      },
      "text/plain": [
       "  0%|          | 0/100 [00:00<?, ?it/s]"
      ]
     },
     "metadata": {},
     "output_type": "display_data"
    },
    {
     "name": "stdout",
     "output_type": "stream",
     "text": [
      "Fitting overshot: 1.05\n"
     ]
    },
    {
     "data": {
      "application/vnd.jupyter.widget-view+json": {
       "model_id": "aee9174195284fdf9c52d11edb1675dc",
       "version_major": 2,
       "version_minor": 0
      },
      "text/plain": [
       "  0%|          | 0/100 [00:00<?, ?it/s]"
      ]
     },
     "metadata": {},
     "output_type": "display_data"
    }
   ],
   "source": [
    "%%time\n",
    "\n",
    "overshot = onp.array([0, 0.75, 0.9, 0.95, 1, 1.05, 1.1, 1.25, 2])\n",
    "                     \n",
    "print(overshot)\n",
    "calculate_fit(overshot,'Final fitting/500/100nm/', 'Final fitting/500/Results/', 100)\n"
   ]
  },
  {
   "cell_type": "code",
   "execution_count": 21,
   "id": "a492ba5c-8fe9-4505-b072-80ecfa63f63d",
   "metadata": {},
   "outputs": [
    {
     "name": "stdout",
     "output_type": "stream",
     "text": [
      "Creating 101 images with 100nm of aberration.\n"
     ]
    },
    {
     "data": {
      "application/vnd.jupyter.widget-view+json": {
       "model_id": "814450e67d924d37b92cfc145f7a4acf",
       "version_major": 2,
       "version_minor": 0
      },
      "text/plain": [
       "  0%|          | 0/101 [00:00<?, ?it/s]"
      ]
     },
     "metadata": {},
     "output_type": "display_data"
    },
    {
     "name": "stdout",
     "output_type": "stream",
     "text": [
      "CPU times: user 20min 42s, sys: 2min 28s, total: 23min 10s\n",
      "Wall time: 3min 20s\n"
     ]
    }
   ],
   "source": [
    "%%time\n",
    "\n",
    "#create_images(1, 'Final fitting/500/1nm/')\n",
    "#create_images(2, 'Final fitting/500/2nm/')\n",
    "#create_images(0, 'Final fitting/500/0nm/')\n",
    "#create_images(5, 'Final fitting/500/5nm/')\n",
    "create_images(100, 'Final fitting/500/100nm/')"
   ]
  },
  {
   "cell_type": "code",
   "execution_count": 34,
   "id": "30cade11-0c8c-4c58-b0b5-f0f3a74bf7a5",
   "metadata": {
    "tags": []
   },
   "outputs": [
    {
     "data": {
      "application/vnd.jupyter.widget-view+json": {
       "model_id": "5b4256afa8224b0ea953f4d17c33185f",
       "version_major": 2,
       "version_minor": 0
      },
      "text/plain": [
       "  0%|          | 0/1 [00:00<?, ?it/s]"
      ]
     },
     "metadata": {},
     "output_type": "display_data"
    },
    {
     "name": "stdout",
     "output_type": "stream",
     "text": [
      "Fitting overshot: 0\n"
     ]
    },
    {
     "data": {
      "application/vnd.jupyter.widget-view+json": {
       "model_id": "d716d6edfa2845278193c151d5c4f16e",
       "version_major": 2,
       "version_minor": 0
      },
      "text/plain": [
       "  0%|          | 0/250 [00:00<?, ?it/s]"
      ]
     },
     "metadata": {},
     "output_type": "display_data"
    },
    {
     "name": "stdout",
     "output_type": "stream",
     "text": [
      "Done!\n"
     ]
    }
   ],
   "source": [
    "overshot = [0]#, 0.5, 0.75. 0.9, 0.95, 0.99, 1, 1.01, 1.05, 1.1, 1.25, 1.5]\n",
    "\n",
    "#calculate_fit(overshot,'Final fitting/500/0nm/', 'Final fitting/500/Results/', 0)\n",
    "#calculate_fit(overshot,'Final fitting/500/1nm/', 'Final fitting/500/Results/', 1)\n",
    "#calculate_fit(overshot,'Final fitting/2nm/', 'Final fitting/500/Results/', 2)\n",
    "#calculate_fit(overshot,'Final fitting/500/5nm/', 'Final fitting/500/Results/', 5)\n",
    "calculate_fit(overshot,'Final fitting/500/10nm/', 'Final fitting/500/Results/', 10)\n",
    "\n",
    "print('Done!')\n"
   ]
  },
  {
   "cell_type": "code",
   "execution_count": 35,
   "id": "2473de6e-803e-43d8-9264-fcf1be1e2681",
   "metadata": {},
   "outputs": [
    {
     "data": {
      "application/vnd.jupyter.widget-view+json": {
       "model_id": "60516588873143298c2770ef90022888",
       "version_major": 2,
       "version_minor": 0
      },
      "text/plain": [
       "  0%|          | 0/1 [00:00<?, ?it/s]"
      ]
     },
     "metadata": {},
     "output_type": "display_data"
    },
    {
     "name": "stdout",
     "output_type": "stream",
     "text": [
      "Fitting overshot: 0.75\n"
     ]
    },
    {
     "data": {
      "application/vnd.jupyter.widget-view+json": {
       "model_id": "f9a9fe8264454c19ae282cb8da35df01",
       "version_major": 2,
       "version_minor": 0
      },
      "text/plain": [
       "  0%|          | 0/250 [00:00<?, ?it/s]"
      ]
     },
     "metadata": {},
     "output_type": "display_data"
    },
    {
     "name": "stdout",
     "output_type": "stream",
     "text": [
      "Done!\n"
     ]
    }
   ],
   "source": [
    "overshot = [0.75]#, 0.5, 0.75. 0.9, 0.95, 0.99, 1, 1.01, 1.05, 1.1, 1.25, 1.5]\n",
    "\n",
    "#calculate_fit(overshot,'Final fitting/500/1nm/', 'Final fitting/500/Results/', 1)\n",
    "#calculate_fit(overshot,'Final fitting/2nm/', 'Final fitting/500/Results/', 2)\n",
    "#calculate_fit(overshot,'Final fitting/500/5nm/', 'Final fitting/500/Results/', 5)\n",
    "calculate_fit(overshot,'Final fitting/500/10nm/', 'Final fitting/500/Results/', 10)\n",
    "print('Done!')\n"
   ]
  },
  {
   "cell_type": "code",
   "execution_count": 36,
   "id": "ff68300b-db79-4330-b4db-2029ff6e3d89",
   "metadata": {},
   "outputs": [
    {
     "data": {
      "application/vnd.jupyter.widget-view+json": {
       "model_id": "f747277d773e4509940305520d9634ba",
       "version_major": 2,
       "version_minor": 0
      },
      "text/plain": [
       "  0%|          | 0/1 [00:00<?, ?it/s]"
      ]
     },
     "metadata": {},
     "output_type": "display_data"
    },
    {
     "name": "stdout",
     "output_type": "stream",
     "text": [
      "Fitting overshot: 0.9\n"
     ]
    },
    {
     "data": {
      "application/vnd.jupyter.widget-view+json": {
       "model_id": "1a761b10604d40dfbceb2c2ab74726c4",
       "version_major": 2,
       "version_minor": 0
      },
      "text/plain": [
       "  0%|          | 0/250 [00:00<?, ?it/s]"
      ]
     },
     "metadata": {},
     "output_type": "display_data"
    },
    {
     "name": "stdout",
     "output_type": "stream",
     "text": [
      "Done!\n"
     ]
    }
   ],
   "source": [
    "overshot = [0.9]#, 0.5, 0.75. 0.9, 0.95, 0.99, 1, 1.01, 1.05, 1.1, 1.25, 1.5]\n",
    "\n",
    "#calculate_fit(overshot,'Final fitting/500/1nm/', 'Final fitting/500/Results/', 1)\n",
    "#calculate_fit(overshot,'Final fitting/2nm/', 'Final fitting/500/Results/', 2)\n",
    "#calculate_fit(overshot,'Final fitting/500/5nm/', 'Final fitting/500/Results/', 5)\n",
    "calculate_fit(overshot,'Final fitting/500/10nm/', 'Final fitting/500/Results/', 10)\n",
    "print('Done!')\n"
   ]
  },
  {
   "cell_type": "code",
   "execution_count": 37,
   "id": "21145801-32f2-4f58-952c-7679ccdc21d8",
   "metadata": {},
   "outputs": [
    {
     "data": {
      "application/vnd.jupyter.widget-view+json": {
       "model_id": "8dbe9b999a7842509185ff22bdc30207",
       "version_major": 2,
       "version_minor": 0
      },
      "text/plain": [
       "  0%|          | 0/1 [00:00<?, ?it/s]"
      ]
     },
     "metadata": {},
     "output_type": "display_data"
    },
    {
     "name": "stdout",
     "output_type": "stream",
     "text": [
      "Fitting overshot: 0.95\n"
     ]
    },
    {
     "data": {
      "application/vnd.jupyter.widget-view+json": {
       "model_id": "6bdae4d26a8c4c2f97960ddaadcf601a",
       "version_major": 2,
       "version_minor": 0
      },
      "text/plain": [
       "  0%|          | 0/250 [00:00<?, ?it/s]"
      ]
     },
     "metadata": {},
     "output_type": "display_data"
    },
    {
     "name": "stdout",
     "output_type": "stream",
     "text": [
      "Done!\n"
     ]
    }
   ],
   "source": [
    "overshot = [0.95]#, 0.5, 0.75. 0.9, 0.95, 0.99, 1, 1.01, 1.05, 1.1, 1.25, 1.5]\n",
    "\n",
    "#calculate_fit(overshot,'Final fitting/500/1nm/', 'Final fitting/500/Results/', 1)\n",
    "#calculate_fit(overshot,'Final fitting/2nm/', 'Final fitting/500/Results/', 2)\n",
    "#calculate_fit(overshot,'Final fitting/500/5nm/', 'Final fitting/500/Results/', 5)\n",
    "calculate_fit(overshot,'Final fitting/500/10nm/', 'Final fitting/500/Results/', 10)\n",
    "print('Done!')\n"
   ]
  },
  {
   "cell_type": "code",
   "execution_count": 38,
   "id": "2db51c61-10ed-47bd-9d38-aa59ff15f843",
   "metadata": {},
   "outputs": [
    {
     "data": {
      "application/vnd.jupyter.widget-view+json": {
       "model_id": "bc2cc0ae7bf54681a8bfdd570ebb2c5b",
       "version_major": 2,
       "version_minor": 0
      },
      "text/plain": [
       "  0%|          | 0/1 [00:00<?, ?it/s]"
      ]
     },
     "metadata": {},
     "output_type": "display_data"
    },
    {
     "name": "stdout",
     "output_type": "stream",
     "text": [
      "Fitting overshot: 1\n"
     ]
    },
    {
     "data": {
      "application/vnd.jupyter.widget-view+json": {
       "model_id": "cb71863c0ed14f81b6cafaa175c4c67e",
       "version_major": 2,
       "version_minor": 0
      },
      "text/plain": [
       "  0%|          | 0/250 [00:00<?, ?it/s]"
      ]
     },
     "metadata": {},
     "output_type": "display_data"
    },
    {
     "name": "stdout",
     "output_type": "stream",
     "text": [
      "Done!\n"
     ]
    }
   ],
   "source": [
    "overshot = [1]#, 0.5, 0.75. 0.9, 0.95, 0.99, 1, 1.01, 1.05, 1.1, 1.25, 1.5]\n",
    "\n",
    "#calculate_fit(overshot,'Final fitting/500/1nm/', 'Final fitting/500/Results/', 1)\n",
    "#calculate_fit(overshot,'Final fitting/2nm/', 'Final fitting/500/Results/', 2)\n",
    "#calculate_fit(overshot,'Final fitting/500/5nm/', 'Final fitting/500/Results/', 5)\n",
    "calculate_fit(overshot,'Final fitting/500/10nm/', 'Final fitting/500/Results/', 10)\n",
    "print('Done!')\n"
   ]
  },
  {
   "cell_type": "code",
   "execution_count": 39,
   "id": "ebe78fac-95f3-4608-9e0d-c4b985efa607",
   "metadata": {},
   "outputs": [
    {
     "data": {
      "application/vnd.jupyter.widget-view+json": {
       "model_id": "a097b2be5e1b47ada29a5b6ed3aab418",
       "version_major": 2,
       "version_minor": 0
      },
      "text/plain": [
       "  0%|          | 0/1 [00:00<?, ?it/s]"
      ]
     },
     "metadata": {},
     "output_type": "display_data"
    },
    {
     "name": "stdout",
     "output_type": "stream",
     "text": [
      "Fitting overshot: 1.05\n"
     ]
    },
    {
     "data": {
      "application/vnd.jupyter.widget-view+json": {
       "model_id": "b9a8e702a380477dbcc87636292eaa4a",
       "version_major": 2,
       "version_minor": 0
      },
      "text/plain": [
       "  0%|          | 0/250 [00:00<?, ?it/s]"
      ]
     },
     "metadata": {},
     "output_type": "display_data"
    },
    {
     "name": "stdout",
     "output_type": "stream",
     "text": [
      "Done!\n"
     ]
    }
   ],
   "source": [
    "overshot = [1.05]#, 0.5, 0.75. 0.9, 0.95, 0.99, 1, 1.01, 1.05, 1.1, 1.25, 1.5]\n",
    "\n",
    "#calculate_fit(overshot,'Final fitting/500/1nm/', 'Final fitting/500/Results/', 1)\n",
    "#calculate_fit(overshot,'Final fitting/2nm/', 'Final fitting/500/Results/', 2)\n",
    "#calculate_fit(overshot,'Final fitting/500/5nm/', 'Final fitting/500/Results/', 5)\n",
    "calculate_fit(overshot,'Final fitting/500/10nm/', 'Final fitting/500/Results/', 10)\n",
    "print('Done!')\n"
   ]
  },
  {
   "cell_type": "code",
   "execution_count": 40,
   "id": "bca845f0-bb31-4349-a572-fcac22956c98",
   "metadata": {},
   "outputs": [
    {
     "data": {
      "application/vnd.jupyter.widget-view+json": {
       "model_id": "3e9f55eb9d6a4f9ab34331c926451dac",
       "version_major": 2,
       "version_minor": 0
      },
      "text/plain": [
       "  0%|          | 0/1 [00:00<?, ?it/s]"
      ]
     },
     "metadata": {},
     "output_type": "display_data"
    },
    {
     "name": "stdout",
     "output_type": "stream",
     "text": [
      "Fitting overshot: 1.1\n"
     ]
    },
    {
     "data": {
      "application/vnd.jupyter.widget-view+json": {
       "model_id": "df38ccf22565484c9204479e506f1647",
       "version_major": 2,
       "version_minor": 0
      },
      "text/plain": [
       "  0%|          | 0/250 [00:00<?, ?it/s]"
      ]
     },
     "metadata": {},
     "output_type": "display_data"
    },
    {
     "name": "stdout",
     "output_type": "stream",
     "text": [
      "Done!\n"
     ]
    }
   ],
   "source": [
    "overshot = [1.1]#, 0.5, 0.75. 0.9, 0.95, 0.99, 1, 1.01, 1.05, 1.1, 1.25, 1.5]\n",
    "\n",
    "#calculate_fit(overshot,'Final fitting/500/1nm/', 'Final fitting/500/Results/', 1)\n",
    "#calculate_fit(overshot,'Final fitting/2nm/', 'Final fitting/500/Results/', 2)\n",
    "#calculate_fit(overshot,'Final fitting/500/5nm/', 'Final fitting/500/Results/', 5)\n",
    "calculate_fit(overshot,'Final fitting/500/10nm/', 'Final fitting/500/Results/', 10)\n",
    "print('Done!')\n"
   ]
  },
  {
   "cell_type": "code",
   "execution_count": 41,
   "id": "0cf366ea-0e21-48d5-92fa-5114584554d0",
   "metadata": {},
   "outputs": [
    {
     "data": {
      "application/vnd.jupyter.widget-view+json": {
       "model_id": "0253fc01ef87418aa84ff2c2d7989710",
       "version_major": 2,
       "version_minor": 0
      },
      "text/plain": [
       "  0%|          | 0/1 [00:00<?, ?it/s]"
      ]
     },
     "metadata": {},
     "output_type": "display_data"
    },
    {
     "name": "stdout",
     "output_type": "stream",
     "text": [
      "Fitting overshot: 1.25\n"
     ]
    },
    {
     "data": {
      "application/vnd.jupyter.widget-view+json": {
       "model_id": "19231156c3224329ba193b8e4decb967",
       "version_major": 2,
       "version_minor": 0
      },
      "text/plain": [
       "  0%|          | 0/250 [00:00<?, ?it/s]"
      ]
     },
     "metadata": {},
     "output_type": "display_data"
    },
    {
     "name": "stdout",
     "output_type": "stream",
     "text": [
      "Done!\n"
     ]
    }
   ],
   "source": [
    "overshot = [1.25]#, 0.5, 0.75. 0.9, 0.95, 0.99, 1, 1.01, 1.05, 1.1, 1.25, 1.5]\n",
    "\n",
    "#calculate_fit(overshot,'Final fitting/500/1nm/', 'Final fitting/500/Results/', 1)\n",
    "#calculate_fit(overshot,'Final fitting/2nm/', 'Final fitting/500/Results/', 2)\n",
    "#calculate_fit(overshot,'Final fitting/500/5nm/', 'Final fitting/500/Results/', 5)\n",
    "calculate_fit(overshot,'Final fitting/500/10nm/', 'Final fitting/500/Results/', 10)\n",
    "print('Done!')\n"
   ]
  },
  {
   "cell_type": "code",
   "execution_count": 42,
   "id": "556c63cd-0f4f-4c9a-ae69-2f4fd32de9bc",
   "metadata": {},
   "outputs": [
    {
     "data": {
      "application/vnd.jupyter.widget-view+json": {
       "model_id": "0813c2a7fd9f45af855e9f318c1364e2",
       "version_major": 2,
       "version_minor": 0
      },
      "text/plain": [
       "  0%|          | 0/1 [00:00<?, ?it/s]"
      ]
     },
     "metadata": {},
     "output_type": "display_data"
    },
    {
     "name": "stdout",
     "output_type": "stream",
     "text": [
      "Fitting overshot: 2\n"
     ]
    },
    {
     "data": {
      "application/vnd.jupyter.widget-view+json": {
       "model_id": "5f9d2567fc7f4e6f81bc0f2c6125c874",
       "version_major": 2,
       "version_minor": 0
      },
      "text/plain": [
       "  0%|          | 0/250 [00:00<?, ?it/s]"
      ]
     },
     "metadata": {},
     "output_type": "display_data"
    },
    {
     "data": {
      "application/vnd.jupyter.widget-view+json": {
       "model_id": "2ca5091df2fc4bd1abb7bcd6fa10d619",
       "version_major": 2,
       "version_minor": 0
      },
      "text/plain": [
       "  0%|          | 0/1 [00:00<?, ?it/s]"
      ]
     },
     "metadata": {},
     "output_type": "display_data"
    },
    {
     "name": "stdout",
     "output_type": "stream",
     "text": [
      "Fitting overshot: 2\n"
     ]
    },
    {
     "data": {
      "application/vnd.jupyter.widget-view+json": {
       "model_id": "51f4ed9d30b141e5892f50c5cc8ef70e",
       "version_major": 2,
       "version_minor": 0
      },
      "text/plain": [
       "  0%|          | 0/250 [00:00<?, ?it/s]"
      ]
     },
     "metadata": {},
     "output_type": "display_data"
    },
    {
     "data": {
      "application/vnd.jupyter.widget-view+json": {
       "model_id": "83c6c3e498e94fed86a01ff5b2d5ff7d",
       "version_major": 2,
       "version_minor": 0
      },
      "text/plain": [
       "  0%|          | 0/1 [00:00<?, ?it/s]"
      ]
     },
     "metadata": {},
     "output_type": "display_data"
    },
    {
     "name": "stdout",
     "output_type": "stream",
     "text": [
      "Fitting overshot: 2\n"
     ]
    },
    {
     "data": {
      "application/vnd.jupyter.widget-view+json": {
       "model_id": "5a473a20114148c69ebfa2ebb81b5913",
       "version_major": 2,
       "version_minor": 0
      },
      "text/plain": [
       "  0%|          | 0/250 [00:00<?, ?it/s]"
      ]
     },
     "metadata": {},
     "output_type": "display_data"
    }
   ],
   "source": [
    "overshot = [2]\n",
    "calculate_fit(overshot,'Final fitting/500/1nm/', 'Final fitting/500/Results/', 1)\n",
    "calculate_fit(overshot,'Final fitting/500/5nm/', 'Final fitting/500/Results/', 5)\n",
    "calculate_fit(overshot,'Final fitting/500/10nm/', 'Final fitting/500/Results/', 10)"
   ]
  },
  {
   "cell_type": "code",
   "execution_count": null,
   "id": "63020a21-61aa-4a87-bf95-6f452e161b58",
   "metadata": {},
   "outputs": [],
   "source": [
    "# when plotting adjust the CRLB for each aberration\n",
    "# test on varying zerns - see if that does anything"
   ]
  },
  {
   "cell_type": "code",
   "execution_count": 17,
   "id": "87cb2222-e5fb-482d-a6f3-00f570f6f596",
   "metadata": {},
   "outputs": [
    {
     "name": "stdout",
     "output_type": "stream",
     "text": [
      "5.886081632563302e-06 1.2613190845159736\n",
      "5.895065082443522e-06 1.1905888987600004\n",
      "5.921618455283948e-06 1.2962549717384717\n"
     ]
    },
    {
     "data": {
      "text/plain": [
       "Text(0.5, 1.0, 'Relative accuracy based on knowledge of the optical system \\n 1 hour exposure')"
      ]
     },
     "execution_count": 17,
     "metadata": {},
     "output_type": "execute_result"
    },
    {
     "data": {
      "image/png": "[encoded data removed]",
      "text/plain": [
       "<Figure size 1008x720 with 2 Axes>"
      ]
     },
     "metadata": {
      "needs_background": "light"
     },
     "output_type": "display_data"
    }
   ],
   "source": [
    "pscale = 0.156\n",
    "overshot = [0, 0.75, 0.9, 0.95, 1, 1.05, 1.1, 1.25, 2]\n",
    "phase = [0,0.75, 0.9, 0.95, 1, 1.05, 1.1, 1.25, 2]\n",
    "#overshot = [0,1,2]\n",
    "nm = [1,5,10]\n",
    "flux = 1.8e9 * 60 *60\n",
    "\n",
    "#plt.figure(figsize = (14,10))\n",
    "fig, ax1 = plt.subplots()\n",
    "ax2 = ax1.twinx()\n",
    "fig.set_figheight(10)\n",
    "fig.set_figwidth(14)\n",
    "for i in nm:\n",
    "    stds = onp.array([])\n",
    "    for j in overshot:\n",
    "        std = onp.std(onp.load('Final fitting/500/Results/{}nm-overshot{}.npy'.format(i, j)))\n",
    "        std *= 2/pscale\n",
    "        std /= 5.88e-6\n",
    "        stds = onp.append(stds, std)\n",
    "    data = fits.open('Final fitting/500/{}nm/Epoch0.fits'.format(i))\n",
    "    image = data[1].data\n",
    "    rao = get_cramer(image,flux)\n",
    "    print(rao, std)\n",
    "    ax1.plot(phase, stds, '-o', label = '{}nm'.format(i))\n",
    "    ax2.plot(phase, stds*5.88e-6, alpha = 0)\n",
    "    ax2.tick_params(axis = 'both', labelsize = 13)\n",
    "    ax2.ticklabel_format(axis = 'y',style = 'sci', scilimits = (0,0))\n",
    "#ax1.hlines(1.19,-100,100, color = 'grey', label = 'Performance with no optical aberrations')\n",
    "ax1.legend()\n",
    "ax1.set_xlabel('Relative Phase Error', fontsize = 16)\n",
    "ax1.tick_params(axis = 'both', labelsize = 13)\n",
    "ax1.set_ylabel('Relative Precision', fontsize = 16)\n",
    "ax2.set_ylabel('STD of Error (pixels)', fontsize = 16) \n",
    "ax1.set_title('Relative accuracy based on knowledge of the optical system \\n 1 hour exposure', fontsize = 20)\n",
    "   # plt.hlines(rao, 0, 1.25)"
   ]
  },
  {
   "cell_type": "code",
   "execution_count": 63,
   "id": "8898b178-3b4c-49c7-8a66-7e8bda70dcfc",
   "metadata": {},
   "outputs": [
    {
     "data": {
      "text/plain": [
       "[<matplotlib.lines.Line2D at 0x7f11d408e460>]"
      ]
     },
     "execution_count": 63,
     "metadata": {},
     "output_type": "execute_result"
    },
    {
     "data": {
      "image/png": "[encoded data removed]",
      "text/plain": [
       "<Figure size 432x288 with 1 Axes>"
      ]
     },
     "metadata": {
      "needs_background": "light"
     },
     "output_type": "display_data"
    }
   ],
   "source": [
    "overshot = onp.linspace(0.9,1.1,11)\n",
    "stds = onp.array([])\n",
    "for i in overshot:\n",
    "    std = onp.std(onp.load('Final fitting/500/10fits/1nm-overshot{:.2f}.npy'.format(i)))\n",
    "    stds = onp.append(stds, std)\n",
    "    \n",
    "plt.plot(stds, '--x')"
   ]
  },
  {
   "cell_type": "code",
   "execution_count": 28,
   "id": "444fd703-0c3a-4044-aefe-71d74f4dc314",
   "metadata": {},
   "outputs": [
    {
     "name": "stdout",
     "output_type": "stream",
     "text": [
      "1.192714022186177\n"
     ]
    }
   ],
   "source": [
    "zero = onp.std(onp.load('Final fitting/500/Results/0nm-overshot0.npy'))\n",
    "zero *= 2/pscale\n",
    "zero /= 5.88e-6\n",
    "print(zero)"
   ]
  },
  {
   "cell_type": "code",
   "execution_count": 31,
   "id": "2795b885-b5fb-4342-aeef-b860548be5ef",
   "metadata": {
    "collapsed": true,
    "jupyter": {
     "outputs_hidden": true
    },
    "tags": []
   },
   "outputs": [
    {
     "name": "stdout",
     "output_type": "stream",
     "text": [
      "Creating 101 images with 2nm of aberration.\n"
     ]
    },
    {
     "data": {
      "application/vnd.jupyter.widget-view+json": {
       "model_id": "e3282185a0ff42e09ffd4cc8f0b548f3",
       "version_major": 2,
       "version_minor": 0
      },
      "text/plain": [
       "  0%|          | 0/101 [00:00<?, ?it/s]"
      ]
     },
     "metadata": {},
     "output_type": "display_data"
    },
    {
     "name": "stdout",
     "output_type": "stream",
     "text": [
      "Creating 101 images with 1nm of aberration.\n"
     ]
    },
    {
     "data": {
      "application/vnd.jupyter.widget-view+json": {
       "model_id": "a00cad32e1804c18b9fcd4741f5ef10c",
       "version_major": 2,
       "version_minor": 0
      },
      "text/plain": [
       "  0%|          | 0/101 [00:00<?, ?it/s]"
      ]
     },
     "metadata": {},
     "output_type": "display_data"
    },
    {
     "name": "stdout",
     "output_type": "stream",
     "text": [
      "Creating 101 images with 0.5nm of aberration.\n"
     ]
    },
    {
     "data": {
      "application/vnd.jupyter.widget-view+json": {
       "model_id": "e651eb5293004a3da738d26ea3bdab3c",
       "version_major": 2,
       "version_minor": 0
      },
      "text/plain": [
       "  0%|          | 0/101 [00:00<?, ?it/s]"
      ]
     },
     "metadata": {},
     "output_type": "display_data"
    },
    {
     "name": "stdout",
     "output_type": "stream",
     "text": [
      "CPU times: user 1h 1min 27s, sys: 7min 28s, total: 1h 8min 55s\n",
      "Wall time: 9min 54s\n"
     ]
    }
   ],
   "source": [
    "%%time\n",
    "\n",
    "create_images(2, 'Final fitting/2nm/')\n",
    "create_images(1, 'Final fitting/1nm/')\n",
    "create_images(0.5, 'Final fitting/0.5nm/')"
   ]
  },
  {
   "cell_type": "code",
   "execution_count": null,
   "id": "99d42001-f734-4125-bd56-02478f5002b4",
   "metadata": {
    "collapsed": true,
    "jupyter": {
     "outputs_hidden": true
    },
    "tags": []
   },
   "outputs": [
    {
     "data": {
      "application/vnd.jupyter.widget-view+json": {
       "model_id": "8415ad6a17df4df8a568848ea7d5b19d",
       "version_major": 2,
       "version_minor": 0
      },
      "text/plain": [
       "  0%|          | 0/6 [00:00<?, ?it/s]"
      ]
     },
     "metadata": {},
     "output_type": "display_data"
    },
    {
     "name": "stdout",
     "output_type": "stream",
     "text": [
      "Fitting overshot: 1\n"
     ]
    },
    {
     "data": {
      "application/vnd.jupyter.widget-view+json": {
       "model_id": "7bd011eb61b645bf923a572c6cf06827",
       "version_major": 2,
       "version_minor": 0
      },
      "text/plain": [
       "  0%|          | 0/50 [00:00<?, ?it/s]"
      ]
     },
     "metadata": {},
     "output_type": "display_data"
    },
    {
     "name": "stdout",
     "output_type": "stream",
     "text": [
      "Fitting overshot: 1.01\n"
     ]
    },
    {
     "data": {
      "application/vnd.jupyter.widget-view+json": {
       "model_id": "d640293bca5840e9a5348262d85c0e5b",
       "version_major": 2,
       "version_minor": 0
      },
      "text/plain": [
       "  0%|          | 0/50 [00:00<?, ?it/s]"
      ]
     },
     "metadata": {},
     "output_type": "display_data"
    },
    {
     "name": "stdout",
     "output_type": "stream",
     "text": [
      "Fitting overshot: 1.05\n"
     ]
    },
    {
     "data": {
      "application/vnd.jupyter.widget-view+json": {
       "model_id": "09cb6220e1c146ef807883a5d21cca63",
       "version_major": 2,
       "version_minor": 0
      },
      "text/plain": [
       "  0%|          | 0/50 [00:00<?, ?it/s]"
      ]
     },
     "metadata": {},
     "output_type": "display_data"
    },
    {
     "name": "stdout",
     "output_type": "stream",
     "text": [
      "Fitting overshot: 1.1\n"
     ]
    },
    {
     "data": {
      "application/vnd.jupyter.widget-view+json": {
       "model_id": "8bf994fb67764cd9bd802d4bc298b6be",
       "version_major": 2,
       "version_minor": 0
      },
      "text/plain": [
       "  0%|          | 0/50 [00:00<?, ?it/s]"
      ]
     },
     "metadata": {},
     "output_type": "display_data"
    },
    {
     "name": "stdout",
     "output_type": "stream",
     "text": [
      "Fitting overshot: 1.25\n"
     ]
    },
    {
     "data": {
      "application/vnd.jupyter.widget-view+json": {
       "model_id": "e650926bf4c443959766da9511668753",
       "version_major": 2,
       "version_minor": 0
      },
      "text/plain": [
       "  0%|          | 0/50 [00:00<?, ?it/s]"
      ]
     },
     "metadata": {},
     "output_type": "display_data"
    },
    {
     "name": "stdout",
     "output_type": "stream",
     "text": [
      "Fitting overshot: 1.5\n"
     ]
    },
    {
     "data": {
      "application/vnd.jupyter.widget-view+json": {
       "model_id": "66d72198e3394b33948b79d000e255f7",
       "version_major": 2,
       "version_minor": 0
      },
      "text/plain": [
       "  0%|          | 0/50 [00:00<?, ?it/s]"
      ]
     },
     "metadata": {},
     "output_type": "display_data"
    },
    {
     "data": {
      "application/vnd.jupyter.widget-view+json": {
       "model_id": "6233c0d62a7547929c1dda1f92569c31",
       "version_major": 2,
       "version_minor": 0
      },
      "text/plain": [
       "  0%|          | 0/6 [00:00<?, ?it/s]"
      ]
     },
     "metadata": {},
     "output_type": "display_data"
    },
    {
     "name": "stdout",
     "output_type": "stream",
     "text": [
      "Fitting overshot: 1\n"
     ]
    },
    {
     "data": {
      "application/vnd.jupyter.widget-view+json": {
       "model_id": "ea646c1f042c4a6e913659b33be95d08",
       "version_major": 2,
       "version_minor": 0
      },
      "text/plain": [
       "  0%|          | 0/50 [00:00<?, ?it/s]"
      ]
     },
     "metadata": {},
     "output_type": "display_data"
    },
    {
     "name": "stdout",
     "output_type": "stream",
     "text": [
      "Fitting overshot: 1.01\n"
     ]
    },
    {
     "data": {
      "application/vnd.jupyter.widget-view+json": {
       "model_id": "d576529688d645be943d7bb57785ba81",
       "version_major": 2,
       "version_minor": 0
      },
      "text/plain": [
       "  0%|          | 0/50 [00:00<?, ?it/s]"
      ]
     },
     "metadata": {},
     "output_type": "display_data"
    },
    {
     "name": "stdout",
     "output_type": "stream",
     "text": [
      "Fitting overshot: 1.05\n"
     ]
    },
    {
     "data": {
      "application/vnd.jupyter.widget-view+json": {
       "model_id": "beb074ed1085429c985e3f1bafa76eb8",
       "version_major": 2,
       "version_minor": 0
      },
      "text/plain": [
       "  0%|          | 0/50 [00:00<?, ?it/s]"
      ]
     },
     "metadata": {},
     "output_type": "display_data"
    },
    {
     "name": "stdout",
     "output_type": "stream",
     "text": [
      "Fitting overshot: 1.1\n"
     ]
    },
    {
     "data": {
      "application/vnd.jupyter.widget-view+json": {
       "model_id": "21af35a84281425385d8e16dc19f7837",
       "version_major": 2,
       "version_minor": 0
      },
      "text/plain": [
       "  0%|          | 0/50 [00:00<?, ?it/s]"
      ]
     },
     "metadata": {},
     "output_type": "display_data"
    },
    {
     "name": "stdout",
     "output_type": "stream",
     "text": [
      "Fitting overshot: 1.25\n"
     ]
    },
    {
     "data": {
      "application/vnd.jupyter.widget-view+json": {
       "model_id": "27add3f504a741c1a06f294d624662eb",
       "version_major": 2,
       "version_minor": 0
      },
      "text/plain": [
       "  0%|          | 0/50 [00:00<?, ?it/s]"
      ]
     },
     "metadata": {},
     "output_type": "display_data"
    }
   ],
   "source": [
    "overshot = [1, 1.01, 1.05, 1.1, 1.25, 1.5]\n",
    "\n",
    "calculate_fit(overshot,'Final fitting/0.5nm/', 'Final fitting/Results/Again/', 0.5)\n",
    "calculate_fit(overshot,'Final fitting/1nm/', 'Final fitting/Results/Again/', 1)\n",
    "calculate_fit(overshot,'Final fitting/2nm/', 'Final fitting/Results/Again/', 2)"
   ]
  },
  {
   "cell_type": "code",
   "execution_count": 197,
   "id": "18d4402b-159d-423a-b484-61c69204b2ba",
   "metadata": {
    "collapsed": true,
    "jupyter": {
     "outputs_hidden": true
    },
    "tags": []
   },
   "outputs": [
    {
     "name": "stdout",
     "output_type": "stream",
     "text": [
      "[8.74358218e-06 7.97687466e-06 8.60250723e-06 8.61652853e-06\n",
      " 8.04119112e-06]\n",
      "[0.00014816 0.00014836 0.0001478  0.00014718 0.00014769 0.00014843\n",
      " 0.00014782 0.00014835 0.00014757 0.000148   0.00014793 0.00014841\n",
      " 0.00014765 0.0001485  0.00014708 0.00014852 0.00014787 0.00014949\n",
      " 0.00014807 0.00014882 0.00014902 0.0001486  0.00014871 0.00014926\n",
      " 0.00014818 0.00014877 0.00014893 0.00014816 0.00014975 0.0001481\n",
      " 0.00014908 0.00014829 0.00014841 0.00014892 0.00014806 0.00014906\n",
      " 0.00014758 0.00014833 0.00014688 0.00014882 0.00014815 0.00014801\n",
      " 0.00014865 0.00014841 0.00014842 0.00014867 0.00014833 0.00014761\n",
      " 0.00014838 0.00014859]\n"
     ]
    },
    {
     "data": {
      "image/png": "[encoded data removed]",
      "text/plain": [
       "<Figure size 432x288 with 1 Axes>"
      ]
     },
     "metadata": {
      "needs_background": "light"
     },
     "output_type": "display_data"
    }
   ],
   "source": [
    "pscale = 0.156\n",
    "mags = ['0.5', '1']#, '2']\n",
    "diff = ['0','1','1.01','1.05','1.1']#,'0.5','0.75','1', '1.01','1.025', '1.05','1.075', '1.1','1.125', '1.15','1.175', '1.25','2','2.5','3']\n",
    "percent = [-100,0,1,5,10]#,-50,-25,0,1,2.5,5,7.5,10,12.5,15,17.5,25,100,150,200]\n",
    "rao = 5.88e-6\n",
    "\n",
    "for i in mags:\n",
    "    stds = onp.array([])\n",
    "    for j in diff:\n",
    "        data = []\n",
    "        data4 = onp.load('Final fitting/Results/{}nm-overshot{}.npy'.format(i,j))\n",
    "        #print(onp.std(data1))\n",
    "        data3 = onp.load('Final fitting/Results/Again/{}nm-overshot{}.npy'.format(i,j))\n",
    "        #print(onp.std(data1))\n",
    "        data5 = onp.append(data3, data4)\n",
    "        #data = onp.append(data1,data2)\n",
    "        std = onp.std(data5 - planet_signal[:100])\n",
    "        stds = onp.append(stds, std)\n",
    "    stds *= 2/pscale\n",
    "    plt.plot(percent, stds/rao, label = i, marker = 'x')\n",
    "    \n",
    "print(stds)\n",
    "plt.legend()\n",
    "#plt.xscale('log')\n",
    "print(data2)"
   ]
  },
  {
   "cell_type": "code",
   "execution_count": 22,
   "id": "6978d7b4-477c-47be-84e7-6077ccff2238",
   "metadata": {
    "collapsed": true,
    "jupyter": {
     "outputs_hidden": true
    },
    "tags": []
   },
   "outputs": [
    {
     "name": "stdout",
     "output_type": "stream",
     "text": [
      "SIMPLE  =                    T / conforms to FITS standard                      BITPIX  =                    8 / array data type                                NAXIS   =                    0 / number of array dimensions                     EXTEND  =                    T                                                  SIGNAL  = 2.93892626146236E-07                                                  JITTERX =                    0                                                  JITTERY =                    0                                                  ROLL    =                    0                                                  ZERN_0  =                2E-09                                                  ZERN_1  = 5.01964636542239E-10                                                  ZERN_2  = 5.01964636542239E-10                                                  ZERN_3  = 5.77387859401098E-10                                                  ZERN_4  = 4.08998556848912E-10                                                  ZERN_5  = 4.11464419693586E-10                                                  ZERN_6  = 3.55003777599956E-10                                                  ZERN_7  = 3.55003777599956E-10                                                  ZERN_8  = 3.53906831063910E-10                                                  ZERN_9  = 3.53906831063910E-10                                                  ZERN_10 = 5.96303062957700E-10                                                  ZERN_11 = 3.21302317459179E-10                                                  ZERN_12 = 3.17709527800447E-10                                                  ZERN_13 = 3.19301382841168E-10                                                  ZERN_14 = 3.16645192691386E-10                                                  ZERN_15 = 2.89942653658080E-10                                                  ZERN_16 = 2.89942653658080E-10                                                  ZERN_17 = 2.89490323601055E-10                                                  ZERN_18 = 2.89490323601055E-10                                                  ZERN_19 = 2.89824892176715E-10                                                  END                                                                                                                                                                                                                                                                                                                                                                                                                                                                                                                                                                                                                                                             \n"
     ]
    },
    {
     "data": {
      "text/plain": [
       "<matplotlib.image.AxesImage at 0x7fde24489a00>"
      ]
     },
     "execution_count": 22,
     "metadata": {},
     "output_type": "execute_result"
    },
    {
     "data": {
      "image/png": "[encoded data removed]",
      "text/plain": [
       "<Figure size 432x288 with 1 Axes>"
      ]
     },
     "metadata": {
      "needs_background": "light"
     },
     "output_type": "display_data"
    }
   ],
   "source": [
    "data = fits.open('Final fitting/2nm/Epoch10.fits')\n",
    "hdr = data[0].header\n",
    "print(hdr)\n",
    "image = data[1].data\n",
    "plt.imshow(image)"
   ]
  },
  {
   "cell_type": "code",
   "execution_count": 25,
   "id": "bd685e3d-aa66-4ab9-91ce-86d7807a9ae7",
   "metadata": {
    "collapsed": true,
    "jupyter": {
     "outputs_hidden": true
    },
    "tags": []
   },
   "outputs": [
    {
     "name": "stdout",
     "output_type": "stream",
     "text": [
      "SIMPLE  =                    T / conforms to FITS standard                      BITPIX  =                    8 / array data type                                NAXIS   =                    0 / number of array dimensions                     EXTEND  =                    T                                                  SIGNAL  = 2.93892626146236E-07                                                  JITTERX =                    0                                                  JITTERY =                    0                                                  ROLL    =                    0                                                  ZERN_0  =                5E-10                                                  ZERN_1  = 1.25491159135559E-10                                                  ZERN_2  = 1.25491159135559E-10                                                  ZERN_3  = 1.44346964850274E-10                                                  ZERN_4  = 1.02249639212228E-10                                                  ZERN_5  = 1.02866104923396E-10                                                  ZERN_6  = 8.87509443999891E-11                                                  ZERN_7  = 8.87509443999891E-11                                                  ZERN_8  = 8.84767077659777E-11                                                  ZERN_9  = 8.84767077659777E-11                                                  ZERN_10 = 1.49075765739425E-10                                                  ZERN_11 = 8.03255793647949E-11                                                  ZERN_12 = 7.94273819501119E-11                                                  ZERN_13 = 7.98253457102921E-11                                                  ZERN_14 = 7.91612981728465E-11                                                  ZERN_15 = 7.24856634145202E-11                                                  ZERN_16 = 7.24856634145202E-11                                                  ZERN_17 = 7.23725809002639E-11                                                  ZERN_18 = 7.23725809002639E-11                                                  ZERN_19 = 7.24562230441789E-11                                                  END                                                                                                                                                                                                                                                                                                                                                                                                                                                                                                                                                                                                                                                             \n"
     ]
    },
    {
     "data": {
      "text/plain": [
       "<matplotlib.image.AxesImage at 0x7fde2426c850>"
      ]
     },
     "execution_count": 25,
     "metadata": {},
     "output_type": "execute_result"
    },
    {
     "data": {
      "image/png": "[encoded data removed]",
      "text/plain": [
       "<Figure size 432x288 with 1 Axes>"
      ]
     },
     "metadata": {
      "needs_background": "light"
     },
     "output_type": "display_data"
    }
   ],
   "source": [
    "data = fits.open('Final fitting/0.5nm/Epoch10.fits')\n",
    "hdr = data[0].header\n",
    "print(hdr)\n",
    "image2 = data[1].data\n",
    "plt.imshow(image2 - image)"
   ]
  },
  {
   "cell_type": "code",
   "execution_count": 88,
   "id": "016375c6-74d2-4740-8340-f20978daf1b9",
   "metadata": {},
   "outputs": [
    {
     "name": "stdout",
     "output_type": "stream",
     "text": [
      "Coma X\n",
      "253.7565888377452 208.04056377425408\n",
      "CPU times: user 7.96 s, sys: 748 ms, total: 8.71 s\n",
      "Wall time: 2.38 s\n"
     ]
    },
    {
     "data": {
      "text/plain": [
       "<matplotlib.image.AxesImage at 0x7f11cc4b98b0>"
      ]
     },
     "execution_count": 88,
     "metadata": {},
     "output_type": "execute_result"
    },
    {
     "data": {
      "image/png": "[encoded data removed]",
      "text/plain": [
       "<Figure size 432x288 with 1 Axes>"
      ]
     },
     "metadata": {
      "needs_background": "light"
     },
     "output_type": "display_data"
    }
   ],
   "source": [
    "%%time\n",
    "\n",
    "print(morphine.zernike.zern_name(7+1))\n",
    "\n",
    "osys = generate_opsys(1e-9*jnp.ones(20))\n",
    "image = get_bb_psf(0,0,osys, wavs, weights_A)\n",
    "image = onp.array(image)\n",
    "x,y = get_really_stable_anchors(image)\n",
    "print(x[8,0],y[8,0])\n",
    "plt.imshow(image)"
   ]
  },
  {
   "cell_type": "code",
   "execution_count": 92,
   "id": "1e203ecf-e813-40bd-8096-179d2f7d4599",
   "metadata": {},
   "outputs": [
    {
     "data": {
      "application/vnd.jupyter.widget-view+json": {
       "model_id": "5275ef7c67554f1e857f2614d7939a13",
       "version_major": 2,
       "version_minor": 0
      },
      "text/plain": [
       "  0%|          | 0/250 [00:00<?, ?it/s]"
      ]
     },
     "metadata": {},
     "output_type": "display_data"
    },
    {
     "data": {
      "application/vnd.jupyter.widget-view+json": {
       "model_id": "772ddb6ea4ab4743984743a905095d22",
       "version_major": 2,
       "version_minor": 0
      },
      "text/plain": [
       "  0%|          | 0/1 [00:00<?, ?it/s]"
      ]
     },
     "metadata": {},
     "output_type": "display_data"
    },
    {
     "data": {
      "text/plain": [
       "<matplotlib.collections.PathCollection at 0x7fb1b44d7cd0>"
      ]
     },
     "execution_count": 92,
     "metadata": {},
     "output_type": "execute_result"
    },
    {
     "data": {
      "image/png": "[encoded data removed]",
      "text/plain": [
       "<Figure size 432x288 with 1 Axes>"
      ]
     },
     "metadata": {
      "needs_background": "light"
     },
     "output_type": "display_data"
    }
   ],
   "source": [
    "x_array1 = onp.array([])\n",
    "y_array1 = onp.array([])\n",
    "\n",
    "x_array1_b = onp.array([])\n",
    "y_array1_b = onp.array([])\n",
    "\n",
    "x_array1_c = onp.array([])\n",
    "y_array1_c = onp.array([])\n",
    "\n",
    "abb = onp.linspace(0,0.5,250)\n",
    "abb *= 1e-9\n",
    "\n",
    "for i in tqdm(range(250)):\n",
    "    coef = onp.zeros(20)\n",
    "    coef[8] = abb[i]\n",
    "    osys = generate_opsys(coef)\n",
    "    \n",
    "    image = get_bb_psf(0,0,osys, wavs, weights_A)\n",
    "    image = onp.array(image)\n",
    "    \n",
    "    x,y = get_really_stable_anchors(image, flux = 1.8e9*60*1)\n",
    "    \n",
    "    k = 8\n",
    "    x_array1 = onp.append(x_array1, x[k,1])\n",
    "    y_array1 = onp.append(y_array1, y[k,1])\n",
    "    \n",
    "    k = 18\n",
    "    x_array1_b = onp.append(x_array1_b, x[k,1])\n",
    "    y_array1_b = onp.append(y_array1_b, y[k,1])\n",
    "    \n",
    "    k = 28\n",
    "    x_array1_c = onp.append(x_array1_c, x[k,1])\n",
    "    y_array1_c = onp.append(y_array1_c, y[k,1])\n",
    "\n",
    "plt.scatter(x_array1_a, y_array1_a)\n",
    "plt.scatter(x_array1_b, y_array1_b)\n",
    "plt.scatter(x_array1_c, y_array1_c)\n",
    "\n",
    "\n",
    "\n",
    "\n",
    "x_array2 = onp.array([])\n",
    "y_array2 = onp.array([])\n",
    "\n",
    "x_array2_b = onp.array([])\n",
    "y_array2_b = onp.array([])\n",
    "\n",
    "x_array2_c = onp.array([])\n",
    "y_array2_c = onp.array([])\n",
    "abb = onp.array([3.75e-10])\n",
    "for i in tqdm(range(1)):\n",
    "    coef = onp.zeros(20)\n",
    "    coef[8] = abb[i]\n",
    "    osys = generate_opsys(coef)\n",
    "    \n",
    "    image = get_bb_psf(0,0,osys, wavs, weights_A)\n",
    "    image = onp.array(image)\n",
    "    \n",
    "    x,y = get_really_stable_anchors(image)\n",
    "    \n",
    "    k = 8\n",
    "    x_array2 = onp.append(x_array2, x[k,1])\n",
    "    y_array2 = onp.append(y_array2, y[k,1])\n",
    "\n",
    "\n",
    "plt.scatter(x_array2, y_array2)\n"
   ]
  },
  {
   "cell_type": "code",
   "execution_count": 25,
   "id": "6b9769df-3fe4-4bb6-93b2-0d49dab4b6be",
   "metadata": {
    "jupyter": {
     "source_hidden": true
    },
    "tags": []
   },
   "outputs": [
    {
     "data": {
      "application/vnd.jupyter.widget-view+json": {
       "model_id": "bbac42b6ece94afd9d76de394895c98d",
       "version_major": 2,
       "version_minor": 0
      },
      "text/plain": [
       "  0%|          | 0/100 [00:00<?, ?it/s]"
      ]
     },
     "metadata": {},
     "output_type": "display_data"
    }
   ],
   "source": [
    "x_array = onp.zeros((50,100))\n",
    "y_array = onp.zeros((50,100))\n",
    "abb = onp.linspace(0,0.5,100)\n",
    "abb *= 1e-9\n",
    "\n",
    "for i in tqdm(range(100)):\n",
    "    coef = onp.zeros(20)\n",
    "    coef[8] = abb[i]\n",
    "    osys = generate_opsys(coef)\n",
    "    \n",
    "    image = get_bb_psf(0,0,osys, wavs, weights_A)\n",
    "    image = onp.array(image)\n",
    "    \n",
    "    x,y = get_really_stable_anchors(image)\n",
    "    \n",
    "    for k in range(50):\n",
    "        x_array[k, i] = x[k,1]\n",
    "        y_array[k, i] = y[k,1]\n",
    "\n"
   ]
  },
  {
   "cell_type": "code",
   "execution_count": 43,
   "id": "4594296e-9558-49f7-9573-e519b8d1ecca",
   "metadata": {
    "tags": []
   },
   "outputs": [
    {
     "name": "stdout",
     "output_type": "stream",
     "text": [
      "100\n"
     ]
    }
   ],
   "source": [
    "print(len(x_array[1,:]))"
   ]
  },
  {
   "cell_type": "code",
   "execution_count": 20,
   "id": "d4217e76-883e-42fe-ac76-6ca47de9a797",
   "metadata": {
    "jupyter": {
     "source_hidden": true
    },
    "tags": []
   },
   "outputs": [],
   "source": [
    "from sklearn.linear_model import LinearRegression"
   ]
  },
  {
   "cell_type": "code",
   "execution_count": 54,
   "id": "502f55ab-37e0-45a4-ac00-4bfacc9becca",
   "metadata": {
    "tags": []
   },
   "outputs": [
    {
     "name": "stdout",
     "output_type": "stream",
     "text": [
      "[1.96337983e-10]\n"
     ]
    }
   ],
   "source": [
    "abb = onp.linspace(0,0.5,100)\n",
    "abb *= 1e-9\n",
    "\n",
    "x1 = x_array1\n",
    "y1 = abb.reshape(1,-1)[0]\n",
    "\n",
    "x_model = LinearRegression()\n",
    "x_model.fit(x1.reshape(-1,1),y1)\n",
    "\n",
    "x2 = y_array1\n",
    "y2 = abb.reshape(1,-1)[0]\n",
    "\n",
    "y_model = LinearRegression()\n",
    "y_model.fit(x2.reshape(-1,1),y2)\n",
    "\n",
    "x_new = x_array2\n",
    "y_new = y_array2\n",
    "abb_pred1 = x_model.predict(x_new.reshape(-1, 1))\n",
    "abb_pred2 = y_model.predict(y_new.reshape(-1, 1))\n",
    "\n",
    "best_estimate = abb_pred1/2 + abb_pred2/2\n",
    "print(best_estimate)\n",
    "\n"
   ]
  },
  {
   "cell_type": "code",
   "execution_count": 73,
   "id": "2d1cfaa4-0c46-4ae1-8b99-151385376ca1",
   "metadata": {
    "tags": []
   },
   "outputs": [],
   "source": [
    "def get_anchs(magnitude):\n",
    "    coef = onp.zeros(20)\n",
    "    coef[8] = magnitude\n",
    "    osys = generate_opsys(coef)\n",
    "    \n",
    "    image = get_bb_psf(0,0,osys, wavs, weights_A)\n",
    "    image = onp.array(image)\n",
    "    \n",
    "    x,y = get_really_stable_anchors(image)\n",
    "    \n",
    "    k = 8\n",
    "    return x[k,1], y[k,1]\n",
    "\n",
    "def best_estimate(x,y):\n",
    "    x1 = x_array1\n",
    "    y1 = abb.reshape(1,-1)[0]\n",
    "\n",
    "    x_model = LinearRegression()\n",
    "    x_model.fit(x1.reshape(-1,1),y1)\n",
    "\n",
    "    x2 = y_array1\n",
    "    y2 = abb.reshape(1,-1)[0]\n",
    "\n",
    "    y_model = LinearRegression()\n",
    "    y_model.fit(x2.reshape(-1,1),y2)\n",
    "\n",
    "    x_new = x\n",
    "    y_new = y\n",
    "    abb_pred1 = x_model.predict(x_new.reshape(-1, 1))\n",
    "    abb_pred2 = y_model.predict(y_new.reshape(-1, 1))\n",
    "\n",
    "    best_estimate = abb_pred1/2 + abb_pred2/2\n",
    "    return best_estimate\n",
    "\n",
    "def best_estimate2(x,y):\n",
    "    the_estimate = 0\n",
    "    for i in range(1):\n",
    "        i = 8\n",
    "        x1 = x_array[i,:]\n",
    "        y1 = abb.reshape(1,-1)[0]\n",
    "\n",
    "        x_model = LinearRegression()\n",
    "        x_model.fit(x1.reshape(-1,1),y1)\n",
    "\n",
    "        x2 = y_array[i,:]\n",
    "        y2 = abb.reshape(1,-1)[0]\n",
    "\n",
    "        y_model = LinearRegression()\n",
    "        y_model.fit(x2.reshape(-1,1),y2)\n",
    "\n",
    "        x_new = x\n",
    "        y_new = y\n",
    "        abb_pred1 = x_model.predict(x_new.reshape(-1, 1))\n",
    "        abb_pred2 = y_model.predict(y_new.reshape(-1, 1))\n",
    "\n",
    "        best_estimate = abb_pred1/2 + abb_pred2/2\n",
    "        print(best_estimate)\n",
    "        the_estimate += best_estimate/1\n",
    "    print(the_estimate)\n",
    "    return the_estimate\n",
    "    "
   ]
  },
  {
   "cell_type": "code",
   "execution_count": 93,
   "id": "dfd3c392-9062-4550-b45c-22a66f6c5355",
   "metadata": {},
   "outputs": [
    {
     "data": {
      "application/vnd.jupyter.widget-view+json": {
       "model_id": "52a607f6253d4f73973ef29195d2f232",
       "version_major": 2,
       "version_minor": 0
      },
      "text/plain": [
       "  0%|          | 0/250 [00:00<?, ?it/s]"
      ]
     },
     "metadata": {},
     "output_type": "display_data"
    }
   ],
   "source": [
    "abb = onp.linspace(0,0.5,250)\n",
    "abb *= 1e-9\n",
    "\n",
    "\n",
    "abs_error_arr = onp.array([])\n",
    "percent_error_arr = onp.array([])\n",
    "for i in tqdm(range(250)):\n",
    "    rand = onp.random.rand()\n",
    "    mag = 0.5e-9 * rand\n",
    "    x,y = get_anchs(mag)\n",
    "    est = best_estimate(x,y)\n",
    "    \n",
    "    abs_error = onp.abs(est - mag)\n",
    "    percent_error = est/mag - 1\n",
    "    \n",
    "    \n",
    "    abs_error_arr = onp.append(abs_error_arr, abs_error)\n",
    "    percent_error_arr = onp.append(percent_error_arr, percent_error)\n",
    "    \n",
    "    \n",
    "    "
   ]
  },
  {
   "cell_type": "code",
   "execution_count": 94,
   "id": "4d84649b-0d15-4266-8a5f-e068f90fc56d",
   "metadata": {},
   "outputs": [
    {
     "name": "stdout",
     "output_type": "stream",
     "text": [
      "\n",
      " Absolute Error: \n",
      "Mean: 1.39e-10\n",
      "STD:  7.93e-11\n",
      "\n",
      " Percent Error: \n",
      "Mean: 3.72e+00\n",
      "STD:  2.92e+01\n"
     ]
    }
   ],
   "source": [
    "print('\\n Absolute Error: ')\n",
    "print('Mean: {:.2e}'.format(onp.mean(abs_error_arr)))\n",
    "print('STD:  {:.2e}'.format(onp.std(abs_error_arr)))\n",
    "\n",
    "print('\\n Percent Error: ')\n",
    "print('Mean: {:.2e}'.format(onp.mean(percent_error_arr)))\n",
    "print('STD:  {:.2e}'.format(onp.std(percent_error_arr)))\n",
    "\n",
    "# 1 min"
   ]
  },
  {
   "cell_type": "code",
   "execution_count": null,
   "id": "f3ccca85-6c2a-4359-8cac-02ba36865581",
   "metadata": {},
   "outputs": [],
   "source": [
    "# I could in theory use this to estimate the zernike mode.\n",
    "# check if this is the same for all zern modes"
   ]
  },
  {
   "cell_type": "code",
   "execution_count": 316,
   "id": "e0177a4e-3b07-40ed-97d8-2d12179dde63",
   "metadata": {},
   "outputs": [
    {
     "name": "stdout",
     "output_type": "stream",
     "text": [
      "0.06621999809126727\n"
     ]
    },
    {
     "data": {
      "image/png": "[encoded data removed]",
      "text/plain": [
       "<Figure size 432x288 with 1 Axes>"
      ]
     },
     "metadata": {
      "needs_background": "light"
     },
     "output_type": "display_data"
    }
   ],
   "source": [
    "plt.plot(percent_error_arr, 'x')\n",
    "new_arr = percent_error_arr\n",
    "new_arr = new_arr[onp.abs(new_arr) <3e3]\n",
    "print(onp.std(new_arr))\n"
   ]
  },
  {
   "cell_type": "code",
   "execution_count": null,
   "id": "10f011e7-70ad-460f-8648-816e6a39f22b",
   "metadata": {},
   "outputs": [],
   "source": []
  }
 ],
 "metadata": {
  "kernelspec": {
   "display_name": "Python 3",
   "language": "python",
   "name": "python3"
  },
  "language_info": {
   "codemirror_mode": {
    "name": "ipython",
    "version": 3
   },
   "file_extension": ".py",
   "mimetype": "text/x-python",
   "name": "python",
   "nbconvert_exporter": "python",
   "pygments_lexer": "ipython3",
   "version": "3.9.4"
  }
 },
 "nbformat": 4,
 "nbformat_minor": 5
}
